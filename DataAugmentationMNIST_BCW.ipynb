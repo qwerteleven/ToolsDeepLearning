{
 "cells": [
  {
   "cell_type": "markdown",
   "metadata": {
    "colab_type": "text",
    "id": "9AQmffVsO2Sn"
   },
   "source": [
    "# <center> Data Augmentation </center>\n"
   ]
  },
  {
   "cell_type": "code",
   "execution_count": 1,
   "metadata": {
    "colab": {
     "base_uri": "https://localhost:8080/",
     "height": 52
    },
    "colab_type": "code",
    "executionInfo": {
     "elapsed": 3984,
     "status": "ok",
     "timestamp": 1558992389602,
     "user": {
      "displayName": "Carlos Santana",
      "photoUrl": "https://lh4.googleusercontent.com/-CeMGa-V2idY/AAAAAAAAAAI/AAAAAAAAO2Q/22S5ucbTeu8/s64/photo.jpg",
      "userId": "06972008324074016783"
     },
     "user_tz": -60
    },
    "id": "YaAJNYbLPLRU",
    "outputId": "7c4cdf18-7314-4014-8f4f-4acd47961fd4"
   },
   "outputs": [],
   "source": [
    "import numpy             as np\n",
    "import sklearn           as sk\n",
    "import pandas            as pd\n",
    "import matplotlib.pyplot as plt\n",
    "import tensorflow        as tf\n",
    "import tensorboard       as tb\n",
    "import scipy             as sc\n",
    "\n",
    "%load_ext tensorboard\n",
    "\n",
    "from tensorflow.keras.layers     import Dense\n",
    "from tensorflow.keras.utils      import to_categorical\n",
    "from tensorflow.keras.optimizers import SGD\n",
    "from sklearn.model_selection     import train_test_split\n",
    "from scipy.ndimage               import shift\n",
    "from scipy.ndimage               import rotate\n"
   ]
  },
  {
   "cell_type": "markdown",
   "metadata": {},
   "source": [
    "# MINIST TRAIN DEFAULT\n",
    "\n",
    "---"
   ]
  },
  {
   "cell_type": "code",
   "execution_count": 2,
   "metadata": {
    "colab": {
     "base_uri": "https://localhost:8080/",
     "height": 52
    },
    "colab_type": "code",
    "executionInfo": {
     "elapsed": 3984,
     "status": "ok",
     "timestamp": 1558992389602,
     "user": {
      "displayName": "Carlos Santana",
      "photoUrl": "https://lh4.googleusercontent.com/-CeMGa-V2idY/AAAAAAAAAAI/AAAAAAAAO2Q/22S5ucbTeu8/s64/photo.jpg",
      "userId": "06972008324074016783"
     },
     "user_tz": -60
    },
    "id": "YaAJNYbLPLRU",
    "outputId": "7c4cdf18-7314-4014-8f4f-4acd47961fd4"
   },
   "outputs": [],
   "source": [
    "\n",
    "mnist = pd.read_csv(\"./mnist_train_small.csv\", header=None, sep=';').values\n",
    "\n",
    "X, Y = mnist[:, 1:], mnist[:, 0:1]"
   ]
  },
  {
   "cell_type": "code",
   "execution_count": 3,
   "metadata": {
    "colab": {},
    "colab_type": "code",
    "id": "VyvqSqKFcomZ"
   },
   "outputs": [],
   "source": [
    "\n",
    "Xt = X / 255\n",
    "Yt = to_categorical(Y, 10)\n",
    "\n",
    "X_train, X_test, Y_train, Y_test = train_test_split(Xt, Yt, train_size=0.7)"
   ]
  },
  {
   "cell_type": "code",
   "execution_count": 4,
   "metadata": {
    "colab": {
     "base_uri": "https://localhost:8080/",
     "height": 738
    },
    "colab_type": "code",
    "executionInfo": {
     "elapsed": 42872,
     "status": "ok",
     "timestamp": 1558992637635,
     "user": {
      "displayName": "Carlos Santana",
      "photoUrl": "https://lh4.googleusercontent.com/-CeMGa-V2idY/AAAAAAAAAAI/AAAAAAAAO2Q/22S5ucbTeu8/s64/photo.jpg",
      "userId": "06972008324074016783"
     },
     "user_tz": -60
    },
    "id": "nyLr8wAGRvq0",
    "outputId": "f604636f-3384-4ed3-867c-7f8b73d51c8a"
   },
   "outputs": [],
   "source": [
    "model = tf.keras.Sequential()\n",
    "\n",
    "model.add(Dense(128, activation='relu'))\n",
    "model.add(Dense(64, activation='relu'))\n",
    "model.add(Dense(32, activation='relu'))\n",
    "model.add(Dense(10, activation='softmax'))\n",
    "\n",
    "model.compile(optimizer=SGD(lr=0.1),\n",
    "              loss='categorical_crossentropy', \n",
    "              metrics=['acc'])          "
   ]
  },
  {
   "cell_type": "code",
   "execution_count": 5,
   "metadata": {
    "colab": {
     "base_uri": "https://localhost:8080/",
     "height": 738
    },
    "colab_type": "code",
    "executionInfo": {
     "elapsed": 42872,
     "status": "ok",
     "timestamp": 1558992637635,
     "user": {
      "displayName": "Carlos Santana",
      "photoUrl": "https://lh4.googleusercontent.com/-CeMGa-V2idY/AAAAAAAAAAI/AAAAAAAAO2Q/22S5ucbTeu8/s64/photo.jpg",
      "userId": "06972008324074016783"
     },
     "user_tz": -60
    },
    "id": "nyLr8wAGRvq0",
    "outputId": "f604636f-3384-4ed3-867c-7f8b73d51c8a",
    "scrolled": false
   },
   "outputs": [
    {
     "name": "stdout",
     "output_type": "stream",
     "text": [
      "Epoch 1/20\n",
      "438/438 [==============================] - 2s 4ms/step - loss: 0.5612 - acc: 0.8287 - val_loss: 0.4584 - val_acc: 0.8630\n",
      "Epoch 2/20\n",
      "438/438 [==============================] - 2s 4ms/step - loss: 0.2248 - acc: 0.9316 - val_loss: 0.2124 - val_acc: 0.9318\n",
      "Epoch 3/20\n",
      "438/438 [==============================] - 2s 5ms/step - loss: 0.1561 - acc: 0.9511 - val_loss: 0.1926 - val_acc: 0.9383\n",
      "Epoch 4/20\n",
      "438/438 [==============================] - 2s 5ms/step - loss: 0.1120 - acc: 0.9656 - val_loss: 0.2910 - val_acc: 0.9128\n",
      "Epoch 5/20\n",
      "438/438 [==============================] - 2s 5ms/step - loss: 0.0913 - acc: 0.9721 - val_loss: 0.1693 - val_acc: 0.9512\n",
      "Epoch 6/20\n",
      "438/438 [==============================] - 3s 6ms/step - loss: 0.0687 - acc: 0.9790 - val_loss: 0.1468 - val_acc: 0.9592\n",
      "Epoch 7/20\n",
      "438/438 [==============================] - 3s 6ms/step - loss: 0.0483 - acc: 0.9853 - val_loss: 0.1469 - val_acc: 0.9563\n",
      "Epoch 8/20\n",
      "438/438 [==============================] - 3s 7ms/step - loss: 0.0349 - acc: 0.9897 - val_loss: 0.2520 - val_acc: 0.9335\n",
      "Epoch 9/20\n",
      "438/438 [==============================] - 4s 8ms/step - loss: 0.0292 - acc: 0.9915 - val_loss: 0.1688 - val_acc: 0.9535\n",
      "Epoch 10/20\n",
      "438/438 [==============================] - 4s 9ms/step - loss: 0.0178 - acc: 0.9956 - val_loss: 0.1607 - val_acc: 0.9607\n",
      "Epoch 11/20\n",
      "438/438 [==============================] - 4s 10ms/step - loss: 0.0116 - acc: 0.9971 - val_loss: 0.1697 - val_acc: 0.9623\n",
      "Epoch 12/20\n",
      "438/438 [==============================] - 5s 11ms/step - loss: 0.0139 - acc: 0.9963 - val_loss: 0.1716 - val_acc: 0.9578\n",
      "Epoch 13/20\n",
      "438/438 [==============================] - 3s 7ms/step - loss: 0.0040 - acc: 0.9996 - val_loss: 0.1675 - val_acc: 0.9643\n",
      "Epoch 14/20\n",
      "438/438 [==============================] - 4s 9ms/step - loss: 0.0026 - acc: 0.9998 - val_loss: 0.1680 - val_acc: 0.9630\n",
      "Epoch 15/20\n",
      "438/438 [==============================] - 5s 12ms/step - loss: 0.0014 - acc: 1.0000 - val_loss: 0.1689 - val_acc: 0.9652\n",
      "Epoch 16/20\n",
      "438/438 [==============================] - 6s 13ms/step - loss: 0.0011 - acc: 1.0000 - val_loss: 0.1723 - val_acc: 0.9653\n",
      "Epoch 17/20\n",
      "438/438 [==============================] - 6s 14ms/step - loss: 8.9844e-04 - acc: 1.0000 - val_loss: 0.1742 - val_acc: 0.9648\n",
      "Epoch 18/20\n",
      "438/438 [==============================] - 5s 12ms/step - loss: 8.0166e-04 - acc: 1.0000 - val_loss: 0.1780 - val_acc: 0.9645\n",
      "Epoch 19/20\n",
      "438/438 [==============================] - 4s 8ms/step - loss: 6.8584e-04 - acc: 1.0000 - val_loss: 0.1789 - val_acc: 0.9645\n",
      "Epoch 20/20\n",
      "438/438 [==============================] - 7s 16ms/step - loss: 6.0215e-04 - acc: 1.0000 - val_loss: 0.1803 - val_acc: 0.9653\n"
     ]
    }
   ],
   "source": [
    "logdir = \"logs/Dense-MNIST\"\n",
    "\n",
    "tf.profiler.experimental.start(logdir=logdir)\n",
    "\n",
    "arr = model.fit(X_train, Y_train, validation_data=(X_test, Y_test), epochs=20)\n",
    "\n",
    "tf.profiler.experimental.stop()"
   ]
  },
  {
   "cell_type": "markdown",
   "metadata": {},
   "source": [
    "#         <center>     What Happens if you change     \n",
    "#    a little bit your data set entry? </center> \n",
    "\n",
    "---"
   ]
  },
  {
   "cell_type": "code",
   "execution_count": 6,
   "metadata": {
    "colab": {},
    "colab_type": "code",
    "id": "tiEwAKIIYwBz"
   },
   "outputs": [],
   "source": [
    "def traslate_imgs(X):\n",
    "\n",
    "    trasl_X = np.zeros(X.shape)\n",
    "\n",
    "    for ix, x in enumerate(X):\n",
    "        rx = x.reshape(28, 28)\n",
    "        shift_x = np.random.randint(14) - 7\n",
    "        shift_y = np.random.randint(14) - 7\n",
    "        trasl_X[ix] = shift(x.reshape(28, 28), (shift_x, shift_y)).flatten()\n",
    "\n",
    "    return trasl_X"
   ]
  },
  {
   "cell_type": "code",
   "execution_count": 7,
   "metadata": {
    "colab": {},
    "colab_type": "code",
    "id": "tiEwAKIIYwBz"
   },
   "outputs": [],
   "source": [
    "def rotate_imgs(X):\n",
    "\n",
    "    rot_X = np.zeros(X.shape)\n",
    "\n",
    "    for ix, x in enumerate(X):\n",
    "        rx = x.reshape(28, 28)\n",
    "        angle = np.random.randint(180) - 90\n",
    "        rot_X[ix] = rotate(x.reshape(28, 28), angle, reshape=False, prefilter=False, order=2).flatten()\n",
    "        \n",
    "    return rot_X"
   ]
  },
  {
   "cell_type": "code",
   "execution_count": 8,
   "metadata": {
    "colab": {},
    "colab_type": "code",
    "id": "tiEwAKIIYwBz"
   },
   "outputs": [],
   "source": [
    "def noise_imgs(X, noise_level=0.5):\n",
    "\n",
    "    nois_X = np.zeros(X.shape)\n",
    "    \n",
    "    for ix, x in enumerate(X):\n",
    "        rx = x.reshape(28, 28)\n",
    "        noise = (np.random.random(X[ix].shape) * 2 - 1) * noise_level\n",
    "        nois_X[ix] = np.clip(x + noise, 0.0, 1.0).flatten()\n",
    "\n",
    "    return nois_X"
   ]
  },
  {
   "cell_type": "code",
   "execution_count": 9,
   "metadata": {
    "colab": {},
    "colab_type": "code",
    "id": "zf935Wj2PLVS"
   },
   "outputs": [],
   "source": [
    "\n",
    "#Test augmentation\n",
    "trasX_test = traslate_imgs(X_test)\n",
    "rotaX_test = rotate_imgs(X_test)\n",
    "no50X_test = noise_imgs(X_test, 0.5)\n",
    "no25X_test = noise_imgs(X_test, 0.25)"
   ]
  },
  {
   "cell_type": "code",
   "execution_count": 10,
   "metadata": {
    "colab": {
     "base_uri": "https://localhost:8080/",
     "height": 214
    },
    "colab_type": "code",
    "executionInfo": {
     "elapsed": 1997,
     "status": "ok",
     "timestamp": 1558992981636,
     "user": {
      "displayName": "Carlos Santana",
      "photoUrl": "https://lh4.googleusercontent.com/-CeMGa-V2idY/AAAAAAAAAAI/AAAAAAAAO2Q/22S5ucbTeu8/s64/photo.jpg",
      "userId": "06972008324074016783"
     },
     "user_tz": -60
    },
    "id": "umRaXIlvPfF5",
    "outputId": "5b5772aa-a124-470f-84bf-9131f9ab6b4d"
   },
   "outputs": [
    {
     "data": {
      "image/png": "[encoded data removed]",
      "text/plain": [
       "<Figure size 864x864 with 4 Axes>"
      ]
     },
     "metadata": {
      "needs_background": "light"
     },
     "output_type": "display_data"
    }
   ],
   "source": [
    "idx = 0\n",
    "\n",
    "fig, axs = plt.subplots(1,4,figsize=(12,12))\n",
    "\n",
    "axs[0].matshow(trasX_test[idx,:].reshape(28, 28))\n",
    "axs[1].matshow(rotaX_test[idx,:].reshape(28, 28))\n",
    "axs[2].matshow(no50X_test[idx,:].reshape(28, 28))\n",
    "axs[3].matshow(no25X_test[idx,:].reshape(28, 28))\n",
    "\n",
    "plt.show()"
   ]
  },
  {
   "cell_type": "code",
   "execution_count": 11,
   "metadata": {
    "colab": {
     "base_uri": "https://localhost:8080/",
     "height": 105
    },
    "colab_type": "code",
    "executionInfo": {
     "elapsed": 3346,
     "status": "ok",
     "timestamp": 1558992988380,
     "user": {
      "displayName": "Carlos Santana",
      "photoUrl": "https://lh4.googleusercontent.com/-CeMGa-V2idY/AAAAAAAAAAI/AAAAAAAAO2Q/22S5ucbTeu8/s64/photo.jpg",
      "userId": "06972008324074016783"
     },
     "user_tz": -60
    },
    "id": "EjFPKZTGDP2a",
    "outputId": "8ceeba35-c284-41b9-c007-e16744cac76a"
   },
   "outputs": [
    {
     "name": "stdout",
     "output_type": "stream",
     "text": [
      "Model Train without Data Augmentation\n",
      "Accuracy normal: 96.53391242027283 %\n",
      "Accuracy trans.: 22.52957820892334 %\n",
      "Accuracy rotat.: 49.02516305446625 %\n",
      "Accuracy noi50%: 87.3521089553833 %\n",
      "Accuracy noi25%: 95.91735005378723 %\n"
     ]
    }
   ],
   "source": [
    "print(\"Model Train without Data Augmentation\")\n",
    "print(\"Accuracy normal:\", model.evaluate(X_test,     Y_test, verbose=0)[1] * 100, \"%\")\n",
    "print(\"Accuracy trans.:\", model.evaluate(trasX_test, Y_test, verbose=0)[1] * 100, \"%\")\n",
    "print(\"Accuracy rotat.:\", model.evaluate(rotaX_test, Y_test, verbose=0)[1] * 100, \"%\")\n",
    "print(\"Accuracy noi50%:\", model.evaluate(no50X_test, Y_test, verbose=0)[1] * 100, \"%\")\n",
    "print(\"Accuracy noi25%:\", model.evaluate(no25X_test, Y_test, verbose=0)[1] * 100, \"%\")"
   ]
  },
  {
   "cell_type": "markdown",
   "metadata": {},
   "source": [
    "# MINIST TRAIN WITH DATA AUGMENTATION\n",
    "\n",
    "---"
   ]
  },
  {
   "cell_type": "code",
   "execution_count": 12,
   "metadata": {
    "colab": {},
    "colab_type": "code",
    "id": "DGTzEidcaZ5L"
   },
   "outputs": [],
   "source": [
    "\n",
    "# Train augmentation\n",
    "\n",
    "trasX_train = traslate_imgs(X_train)\n",
    "rotaX_train = rotate_imgs(X_train)\n",
    "no50X_train = noise_imgs(X_train, 0.5)\n",
    "no25X_train = noise_imgs(X_train, 0.25)\n",
    "\n",
    "\n",
    "augmX_train = np.vstack([X_train, \n",
    "                        trasX_train, \n",
    "                        rotaX_train, \n",
    "                        no50X_train, \n",
    "                        no25X_train])\n",
    "\n",
    "\n",
    "augmY_train = np.tile(Y_train, (5,1))\n",
    "\n",
    "idxs = np.random.choice(range(augmX_train.shape[0]), augmX_train.shape[0], replace=False)"
   ]
  },
  {
   "cell_type": "code",
   "execution_count": 13,
   "metadata": {
    "colab": {
     "base_uri": "https://localhost:8080/",
     "height": 293
    },
    "colab_type": "code",
    "executionInfo": {
     "elapsed": 1659,
     "status": "ok",
     "timestamp": 1558993000904,
     "user": {
      "displayName": "Carlos Santana",
      "photoUrl": "https://lh4.googleusercontent.com/-CeMGa-V2idY/AAAAAAAAAAI/AAAAAAAAO2Q/22S5ucbTeu8/s64/photo.jpg",
      "userId": "06972008324074016783"
     },
     "user_tz": -60
    },
    "id": "yxEBUCr2eche",
    "outputId": "e0643ac5-0193-483f-8252-518ac398d21b"
   },
   "outputs": [
    {
     "name": "stdout",
     "output_type": "stream",
     "text": [
      "[0. 0. 1. 0. 0. 0. 0. 0. 0. 0.]\n"
     ]
    },
    {
     "data": {
      "image/png": "[encoded data removed]",
      "text/plain": [
       "<Figure size 288x288 with 1 Axes>"
      ]
     },
     "metadata": {
      "needs_background": "light"
     },
     "output_type": "display_data"
    }
   ],
   "source": [
    "augmX_train.shape\n",
    "\n",
    "i = 2\n",
    "\n",
    "plt.matshow(augmX_train[idxs][i,:].reshape(28,28))\n",
    "print(augmY_train[idxs][i])"
   ]
  },
  {
   "cell_type": "code",
   "execution_count": 14,
   "metadata": {
    "colab": {
     "base_uri": "https://localhost:8080/",
     "height": 738
    },
    "colab_type": "code",
    "executionInfo": {
     "elapsed": 343639,
     "status": "ok",
     "timestamp": 1558993349619,
     "user": {
      "displayName": "Carlos Santana",
      "photoUrl": "https://lh4.googleusercontent.com/-CeMGa-V2idY/AAAAAAAAAAI/AAAAAAAAO2Q/22S5ucbTeu8/s64/photo.jpg",
      "userId": "06972008324074016783"
     },
     "user_tz": -60
    },
    "id": "q9vooDAnbPSr",
    "outputId": "ccd8f272-9188-4eaa-ce67-3dae29614f7e"
   },
   "outputs": [],
   "source": [
    "model = tf.keras.Sequential()\n",
    "model.add(Dense(128, activation='relu'))\n",
    "model.add(Dense(64, activation='relu'))\n",
    "model.add(Dense(32, activation='relu'))\n",
    "model.add(Dense(10, activation='softmax'))\n",
    "\n",
    "\n",
    "model.compile(optimizer=SGD(lr=0.05),\n",
    "              loss='categorical_crossentropy',\n",
    "              metrics=['acc'])             "
   ]
  },
  {
   "cell_type": "code",
   "execution_count": 15,
   "metadata": {
    "colab": {
     "base_uri": "https://localhost:8080/",
     "height": 738
    },
    "colab_type": "code",
    "executionInfo": {
     "elapsed": 343639,
     "status": "ok",
     "timestamp": 1558993349619,
     "user": {
      "displayName": "Carlos Santana",
      "photoUrl": "https://lh4.googleusercontent.com/-CeMGa-V2idY/AAAAAAAAAAI/AAAAAAAAO2Q/22S5ucbTeu8/s64/photo.jpg",
      "userId": "06972008324074016783"
     },
     "user_tz": -60
    },
    "id": "q9vooDAnbPSr",
    "outputId": "ccd8f272-9188-4eaa-ce67-3dae29614f7e",
    "scrolled": true
   },
   "outputs": [
    {
     "name": "stdout",
     "output_type": "stream",
     "text": [
      "Epoch 1/20\n",
      "1094/1094 [==============================] - 4s 4ms/step - loss: 1.1045 - acc: 0.6541 - val_loss: 0.3297 - val_acc: 0.9040\n",
      "Epoch 2/20\n",
      "1094/1094 [==============================] - 4s 4ms/step - loss: 0.6384 - acc: 0.7955 - val_loss: 0.2093 - val_acc: 0.9368\n",
      "Epoch 3/20\n",
      "1094/1094 [==============================] - 5s 5ms/step - loss: 0.4574 - acc: 0.8542 - val_loss: 0.1731 - val_acc: 0.9480\n",
      "Epoch 4/20\n",
      "1094/1094 [==============================] - 7s 6ms/step - loss: 0.3562 - acc: 0.8868 - val_loss: 0.1537 - val_acc: 0.9523\n",
      "Epoch 5/20\n",
      "1094/1094 [==============================] - 8s 7ms/step - loss: 0.2938 - acc: 0.9068 - val_loss: 0.1556 - val_acc: 0.9528\n",
      "Epoch 6/20\n",
      "1094/1094 [==============================] - 7s 6ms/step - loss: 0.2470 - acc: 0.9217 - val_loss: 0.1436 - val_acc: 0.9585\n",
      "Epoch 7/20\n",
      "1094/1094 [==============================] - 10s 9ms/step - loss: 0.2127 - acc: 0.9323 - val_loss: 0.1468 - val_acc: 0.9567\n",
      "Epoch 8/20\n",
      "1094/1094 [==============================] - 12s 11ms/step - loss: 0.1846 - acc: 0.9421 - val_loss: 0.2097 - val_acc: 0.9413\n",
      "Epoch 9/20\n",
      "1094/1094 [==============================] - 13s 12ms/step - loss: 0.1620 - acc: 0.9487 - val_loss: 0.1635 - val_acc: 0.9540\n",
      "Epoch 10/20\n",
      "1094/1094 [==============================] - 9s 8ms/step - loss: 0.1404 - acc: 0.9557 - val_loss: 0.1719 - val_acc: 0.9537\n",
      "Epoch 11/20\n",
      "1094/1094 [==============================] - 16s 14ms/step - loss: 0.1262 - acc: 0.9600 - val_loss: 0.1622 - val_acc: 0.9550\n",
      "Epoch 12/20\n",
      "1094/1094 [==============================] - 15s 14ms/step - loss: 0.1136 - acc: 0.9635 - val_loss: 0.1732 - val_acc: 0.9543\n",
      "Epoch 13/20\n",
      "1094/1094 [==============================] - 13s 12ms/step - loss: 0.1007 - acc: 0.9687 - val_loss: 0.1739 - val_acc: 0.9555\n",
      "Epoch 14/20\n",
      "1094/1094 [==============================] - 19s 18ms/step - loss: 0.0929 - acc: 0.9707 - val_loss: 0.1685 - val_acc: 0.9600\n",
      "Epoch 15/20\n",
      "1094/1094 [==============================] - 13s 12ms/step - loss: 0.0811 - acc: 0.9742 - val_loss: 0.1693 - val_acc: 0.9585\n",
      "Epoch 16/20\n",
      "1094/1094 [==============================] - 19s 18ms/step - loss: 0.0747 - acc: 0.9766 - val_loss: 0.1718 - val_acc: 0.9595\n",
      "Epoch 17/20\n",
      "1094/1094 [==============================] - 17s 16ms/step - loss: 0.0695 - acc: 0.9780 - val_loss: 0.1813 - val_acc: 0.9557\n",
      "Epoch 18/20\n",
      "1094/1094 [==============================] - 16s 14ms/step - loss: 0.0596 - acc: 0.9800 - val_loss: 0.2010 - val_acc: 0.9575\n",
      "Epoch 19/20\n",
      "1094/1094 [==============================] - 23s 21ms/step - loss: 0.0567 - acc: 0.9821 - val_loss: 0.1934 - val_acc: 0.9587\n",
      "Epoch 20/20\n",
      "1094/1094 [==============================] - 17s 16ms/step - loss: 0.0511 - acc: 0.9842 - val_loss: 0.1979 - val_acc: 0.9577\n"
     ]
    }
   ],
   "source": [
    "logdir = \"logs/Dense-MNIST-Data-Augmentation\"\n",
    "\n",
    "tf.profiler.experimental.start(logdir=logdir)\n",
    "\n",
    "arr = model.fit(augmX_train, augmY_train, validation_data=(X_test, Y_test),\n",
    "                batch_size=64, epochs=20)\n",
    "\n",
    "tf.profiler.experimental.stop()\n"
   ]
  },
  {
   "cell_type": "code",
   "execution_count": 16,
   "metadata": {
    "colab": {
     "base_uri": "https://localhost:8080/",
     "height": 105
    },
    "colab_type": "code",
    "executionInfo": {
     "elapsed": 2201,
     "status": "ok",
     "timestamp": 1558993773958,
     "user": {
      "displayName": "Carlos Santana",
      "photoUrl": "https://lh4.googleusercontent.com/-CeMGa-V2idY/AAAAAAAAAAI/AAAAAAAAO2Q/22S5ucbTeu8/s64/photo.jpg",
      "userId": "06972008324074016783"
     },
     "user_tz": -60
    },
    "id": "u7SzCBkQh4HM",
    "outputId": "5d24c370-ced9-4997-e974-d6bdbf701527"
   },
   "outputs": [
    {
     "name": "stdout",
     "output_type": "stream",
     "text": [
      "Model Train with Data Augmentation\n",
      "Accuracy normal: 95.7673728466034 %\n",
      "Accuracy trans.: 82.18629956245422 %\n",
      "Accuracy rotat.: 88.38527202606201 %\n",
      "Accuracy noi50%: 93.40109825134277 %\n",
      "Accuracy noi25%: 95.88401913642883 %\n"
     ]
    }
   ],
   "source": [
    "print(\"Model Train with Data Augmentation\")\n",
    "print(\"Accuracy normal:\", model.evaluate(X_test,     Y_test, verbose=0)[1] * 100,\"%\")\n",
    "print(\"Accuracy trans.:\", model.evaluate(trasX_test, Y_test, verbose=0)[1] * 100,\"%\")\n",
    "print(\"Accuracy rotat.:\", model.evaluate(rotaX_test, Y_test, verbose=0)[1] * 100,\"%\")\n",
    "print(\"Accuracy noi50%:\", model.evaluate(no50X_test, Y_test, verbose=0)[1] * 100,\"%\")\n",
    "print(\"Accuracy noi25%:\", model.evaluate(no25X_test, Y_test, verbose=0)[1] * 100,\"%\")"
   ]
  },
  {
   "cell_type": "code",
   "execution_count": 17,
   "metadata": {},
   "outputs": [],
   "source": [
    "# Default port localhost:6006 or 127.0.0.0:6006, if you dont have DNS\n",
    "# the integration of tensorboard not is so good, I dont know how close tensorboard without kill\n",
    "\n",
    "# %tensorboard --logdir=\"logs\""
   ]
  },
  {
   "cell_type": "markdown",
   "metadata": {
    "colab_type": "text",
    "id": "32oGijpim-51"
   },
   "source": [
    "## Cange Dataset to breast cancer wisconsin\n",
    "\n",
    "---\n"
   ]
  },
  {
   "cell_type": "code",
   "execution_count": 18,
   "metadata": {
    "colab": {
     "base_uri": "https://localhost:8080/",
     "height": 1804
    },
    "colab_type": "code",
    "executionInfo": {
     "elapsed": 12797,
     "status": "ok",
     "timestamp": 1558615181942,
     "user": {
      "displayName": "Carlos Santana",
      "photoUrl": "https://lh4.googleusercontent.com/-CeMGa-V2idY/AAAAAAAAAAI/AAAAAAAAO2Q/22S5ucbTeu8/s64/photo.jpg",
      "userId": "06972008324074016783"
     },
     "user_tz": -60
    },
    "id": "Yw5YPAempwTJ",
    "outputId": "1737f643-6c13-4d8b-95bc-eef9ea3620a7"
   },
   "outputs": [],
   "source": [
    "cancer_data = pd.read_csv(\"./breast_cancer_wisconsin.csv\", index_col=0)\n",
    "\n",
    "X = cancer_data.iloc[:, 1:]\n",
    "Y = cancer_data.iloc[:, 0].map({'M':1, 'B':0})[:, np.newaxis]\n",
    "\n",
    "cols = X.columns"
   ]
  },
  {
   "cell_type": "code",
   "execution_count": 19,
   "metadata": {
    "colab": {
     "base_uri": "https://localhost:8080/",
     "height": 1804
    },
    "colab_type": "code",
    "executionInfo": {
     "elapsed": 12797,
     "status": "ok",
     "timestamp": 1558615181942,
     "user": {
      "displayName": "Carlos Santana",
      "photoUrl": "https://lh4.googleusercontent.com/-CeMGa-V2idY/AAAAAAAAAAI/AAAAAAAAO2Q/22S5ucbTeu8/s64/photo.jpg",
      "userId": "06972008324074016783"
     },
     "user_tz": -60
    },
    "id": "Yw5YPAempwTJ",
    "outputId": "1737f643-6c13-4d8b-95bc-eef9ea3620a7"
   },
   "outputs": [],
   "source": [
    "tX = ((X - np.mean(X, axis=0)) / np.std(X, axis=0)).values\n",
    "tY =  Y\n",
    "\n",
    "X_train, X_test, Y_train, Y_test = train_test_split(tX, tY.ravel(), test_size=0.3)"
   ]
  },
  {
   "cell_type": "markdown",
   "metadata": {},
   "source": [
    "# Default Train\n",
    "\n",
    "---"
   ]
  },
  {
   "cell_type": "code",
   "execution_count": 20,
   "metadata": {
    "colab": {
     "base_uri": "https://localhost:8080/",
     "height": 1804
    },
    "colab_type": "code",
    "executionInfo": {
     "elapsed": 12797,
     "status": "ok",
     "timestamp": 1558615181942,
     "user": {
      "displayName": "Carlos Santana",
      "photoUrl": "https://lh4.googleusercontent.com/-CeMGa-V2idY/AAAAAAAAAAI/AAAAAAAAO2Q/22S5ucbTeu8/s64/photo.jpg",
      "userId": "06972008324074016783"
     },
     "user_tz": -60
    },
    "id": "Yw5YPAempwTJ",
    "outputId": "1737f643-6c13-4d8b-95bc-eef9ea3620a7"
   },
   "outputs": [],
   "source": [
    "model = tf.keras.Sequential()\n",
    "\n",
    "model.add(Dense(64, activation='relu'))\n",
    "model.add(Dense(32, activation='relu'))\n",
    "model.add(Dense(1, activation='sigmoid'))\n",
    "\n",
    "model.compile(optimizer=SGD(lr=0.1),\n",
    "              loss='binary_crossentropy',   \n",
    "              metrics=['acc'])      "
   ]
  },
  {
   "cell_type": "code",
   "execution_count": 21,
   "metadata": {
    "colab": {
     "base_uri": "https://localhost:8080/",
     "height": 1804
    },
    "colab_type": "code",
    "executionInfo": {
     "elapsed": 12797,
     "status": "ok",
     "timestamp": 1558615181942,
     "user": {
      "displayName": "Carlos Santana",
      "photoUrl": "https://lh4.googleusercontent.com/-CeMGa-V2idY/AAAAAAAAAAI/AAAAAAAAO2Q/22S5ucbTeu8/s64/photo.jpg",
      "userId": "06972008324074016783"
     },
     "user_tz": -60
    },
    "id": "Yw5YPAempwTJ",
    "outputId": "1737f643-6c13-4d8b-95bc-eef9ea3620a7",
    "scrolled": true
   },
   "outputs": [
    {
     "name": "stdout",
     "output_type": "stream",
     "text": [
      "Epoch 1/20\n",
      "50/50 [==============================] - 0s 7ms/step - loss: 0.6720 - acc: 0.6231 - val_loss: 0.6623 - val_acc: 0.6257\n",
      "Epoch 2/20\n",
      "50/50 [==============================] - 0s 4ms/step - loss: 0.6614 - acc: 0.6281 - val_loss: 0.6615 - val_acc: 0.6257\n",
      "Epoch 3/20\n",
      "50/50 [==============================] - 0s 5ms/step - loss: 0.6613 - acc: 0.6281 - val_loss: 0.6613 - val_acc: 0.6257\n",
      "Epoch 4/20\n",
      "50/50 [==============================] - 0s 5ms/step - loss: 0.6610 - acc: 0.6281 - val_loss: 0.6612 - val_acc: 0.6257\n",
      "Epoch 5/20\n",
      "50/50 [==============================] - 0s 5ms/step - loss: 0.6614 - acc: 0.6281 - val_loss: 0.6613 - val_acc: 0.6257\n",
      "Epoch 6/20\n",
      "50/50 [==============================] - 0s 5ms/step - loss: 0.6608 - acc: 0.6281 - val_loss: 0.6613 - val_acc: 0.6257\n",
      "Epoch 7/20\n",
      "50/50 [==============================] - 0s 5ms/step - loss: 0.6615 - acc: 0.6281 - val_loss: 0.6612 - val_acc: 0.6257\n",
      "Epoch 8/20\n",
      "50/50 [==============================] - 0s 5ms/step - loss: 0.6613 - acc: 0.6281 - val_loss: 0.6612 - val_acc: 0.6257\n",
      "Epoch 9/20\n",
      "50/50 [==============================] - 0s 5ms/step - loss: 0.6611 - acc: 0.6281 - val_loss: 0.6613 - val_acc: 0.6257\n",
      "Epoch 10/20\n",
      "50/50 [==============================] - 0s 4ms/step - loss: 0.6610 - acc: 0.6281 - val_loss: 0.6617 - val_acc: 0.6257\n",
      "Epoch 11/20\n",
      "50/50 [==============================] - 0s 5ms/step - loss: 0.6614 - acc: 0.6281 - val_loss: 0.6613 - val_acc: 0.6257\n",
      "Epoch 12/20\n",
      "50/50 [==============================] - 0s 5ms/step - loss: 0.6615 - acc: 0.6281 - val_loss: 0.6612 - val_acc: 0.6257\n",
      "Epoch 13/20\n",
      "50/50 [==============================] - 0s 4ms/step - loss: 0.6614 - acc: 0.6281 - val_loss: 0.6612 - val_acc: 0.6257\n",
      "Epoch 14/20\n",
      "50/50 [==============================] - 0s 5ms/step - loss: 0.6607 - acc: 0.6281 - val_loss: 0.6612 - val_acc: 0.6257\n",
      "Epoch 15/20\n",
      "50/50 [==============================] - 0s 4ms/step - loss: 0.6614 - acc: 0.6281 - val_loss: 0.6612 - val_acc: 0.6257\n",
      "Epoch 16/20\n",
      "50/50 [==============================] - 0s 5ms/step - loss: 0.6617 - acc: 0.6281 - val_loss: 0.6614 - val_acc: 0.6257\n",
      "Epoch 17/20\n",
      "50/50 [==============================] - 1s 14ms/step - loss: 0.6609 - acc: 0.6281 - val_loss: 0.6614 - val_acc: 0.6257\n",
      "Epoch 18/20\n",
      "50/50 [==============================] - 0s 5ms/step - loss: 0.6607 - acc: 0.6281 - val_loss: 0.6613 - val_acc: 0.6257\n",
      "Epoch 19/20\n",
      "50/50 [==============================] - 0s 4ms/step - loss: 0.6614 - acc: 0.6281 - val_loss: 0.6613 - val_acc: 0.6257\n",
      "Epoch 20/20\n",
      "50/50 [==============================] - 0s 4ms/step - loss: 0.6615 - acc: 0.6281 - val_loss: 0.6612 - val_acc: 0.6257\n"
     ]
    }
   ],
   "source": [
    "logdir = \"logs/Dense-breast_cancer_wisconsin\"\n",
    "\n",
    "tf.profiler.experimental.start(logdir=logdir)\n",
    "\n",
    "arr = model.fit(X_train, Y_train, validation_data=(X_test, Y_test), batch_size=8, epochs=20)\n",
    "\n",
    "tf.profiler.experimental.stop()\n"
   ]
  },
  {
   "cell_type": "markdown",
   "metadata": {
    "colab": {
     "base_uri": "https://localhost:8080/",
     "height": 244
    },
    "colab_type": "code",
    "executionInfo": {
     "elapsed": 995,
     "status": "ok",
     "timestamp": 1558615200841,
     "user": {
      "displayName": "Carlos Santana",
      "photoUrl": "https://lh4.googleusercontent.com/-CeMGa-V2idY/AAAAAAAAAAI/AAAAAAAAO2Q/22S5ucbTeu8/s64/photo.jpg",
      "userId": "06972008324074016783"
     },
     "user_tz": -60
    },
    "id": "dbfaETwUCsTR",
    "outputId": "91570b0e-11b1-43f0-fbe3-b2c400641290"
   },
   "source": [
    "\n",
    "# breast cancer wisconsin with Data Augmentation or not?\n",
    "\n",
    "---\n"
   ]
  },
  {
   "cell_type": "markdown",
   "metadata": {},
   "source": [
    "## why not?\n",
    "\n",
    ">>  <p>\n",
    "     well i don´t know if a little changes into data, change the label of the entry, \n",
    "      i don´t a doctor, with MNIST a know if is a number, but know if cancer or not, \n",
    "      i don´t know how\n",
    "  </p>\n",
    "\n"
   ]
  }
 ],
 "metadata": {
  "accelerator": "GPU",
  "colab": {
   "collapsed_sections": [],
   "name": "(Solución) Exerc.10 - Data Augmentation",
   "provenance": [],
   "version": "0.3.2"
  },
  "kernelspec": {
   "display_name": "Python 3",
   "language": "python",
   "name": "python3"
  },
  "language_info": {
   "codemirror_mode": {
    "name": "ipython",
    "version": 3
   },
   "file_extension": ".py",
   "mimetype": "text/x-python",
   "name": "python",
   "nbconvert_exporter": "python",
   "pygments_lexer": "ipython3",
   "version": "3.7.6"
  }
 },
 "nbformat": 4,
 "nbformat_minor": 1
}
