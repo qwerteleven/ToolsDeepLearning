{
 "cells": [
  {
   "cell_type": "markdown",
   "metadata": {
    "colab_type": "text",
    "id": "IdPOYy098qfM"
   },
   "source": [
    "# <center> intention when writing </center>\n",
    "\n"
   ]
  },
  {
   "cell_type": "code",
   "execution_count": 1,
   "metadata": {
    "colab": {},
    "colab_type": "code",
    "id": "8M33d_-c3UUm"
   },
   "outputs": [],
   "source": [
    "from tensorflow.keras.datasets import imdb\n",
    "from tensorflow.keras import preprocessing\n",
    "from tensorflow.keras.utils import to_categorical\n",
    "from tensorflow.keras import *\n",
    "from tensorflow.keras.layers import *\n",
    "from tensorflow.keras.preprocessing.text import *\n",
    "from tensorflow.keras.utils import *\n",
    "import tensorflow as tf\n",
    "from sklearn.decomposition import PCA\n",
    "from matplotlib import cm, pyplot as plt\n",
    "\n",
    "import numpy as np\n",
    "old = np.load\n",
    "\n",
    "np.load = lambda *a,**k: old(*a, **k)"
   ]
  },
  {
   "cell_type": "code",
   "execution_count": 2,
   "metadata": {
    "colab": {},
    "colab_type": "code",
    "id": "SiLZY2NZ24IT"
   },
   "outputs": [
    {
     "name": "stdout",
     "output_type": "stream",
     "text": [
      "Downloading data from https://storage.googleapis.com/tensorflow/tf-keras-datasets/imdb_word_index.json\n",
      "1646592/1641221 [==============================] - 1s 0us/step\n"
     ]
    }
   ],
   "source": [
    "\n",
    "max_features = 10000 # Número máximo de palabras diferentes de nuestro vocabulario.\n",
    "maxlen = 300         # Número máximo de palabras en cada texto.\n",
    "\n",
    "# Carga el texto ya tokenizado.\n",
    "(x_train, y_train), (x_test, y_test) = imdb.load_data(num_words = max_features) \n",
    "\n",
    "# Preprocesado de los textos para igualar todas sus longitudes.\n",
    "x_train = preprocessing.sequence.pad_sequences(x_train, maxlen=maxlen)\n",
    "x_test =  preprocessing.sequence.pad_sequences(x_test, maxlen=maxlen) \n",
    "\n",
    "# Utiliza esta línea para obtener la palabra asociada a cada índice.\n",
    "word_index = imdb.get_word_index()\n",
    "index_word = {v: k for k, v in imdb.get_word_index().items()}"
   ]
  },
  {
   "cell_type": "code",
   "execution_count": 3,
   "metadata": {
    "colab": {
     "base_uri": "https://localhost:8080/",
     "height": 145
    },
    "colab_type": "code",
    "executionInfo": {
     "elapsed": 839,
     "status": "ok",
     "timestamp": 1559207833965,
     "user": {
      "displayName": "qwerteleven kuihuih",
      "photoUrl": "",
      "userId": "17420874050594162777"
     },
     "user_tz": -60
    },
    "id": "xyGgeKbGB0LR",
    "outputId": "84581228-e8b1-4adb-9014-63e254e86ac5"
   },
   "outputs": [
    {
     "name": "stdout",
     "output_type": "stream",
     "text": [
      "[[   0    0    0 ...   14    6  717]\n",
      " [   0    0    0 ...  125    4 3077]\n",
      " [1239 5189  137 ...    9   57  975]\n",
      " ...\n",
      " [   0    0    0 ...   21  846 5518]\n",
      " [   0    0    0 ... 2302    7  470]\n",
      " [   0    0    0 ...   34 2005 2643]]\n"
     ]
    }
   ],
   "source": [
    "print (x_test)"
   ]
  },
  {
   "cell_type": "code",
   "execution_count": 4,
   "metadata": {
    "colab": {
     "base_uri": "https://localhost:8080/",
     "height": 926
    },
    "colab_type": "code",
    "executionInfo": {
     "elapsed": 703,
     "status": "ok",
     "timestamp": 1559208654620,
     "user": {
      "displayName": "qwerteleven kuihuih",
      "photoUrl": "",
      "userId": "17420874050594162777"
     },
     "user_tz": -60
    },
    "id": "5rIRDf230WHi",
    "outputId": "feebbacc-a3e8-4259-8393-f2df57621a32"
   },
   "outputs": [
    {
     "name": "stdout",
     "output_type": "stream",
     "text": [
      "there\n",
      "some\n",
      "very\n",
      "good\n",
      "about\n",
      "has\n",
      "out\n",
      "if\n",
      "it's\n",
      "what\n",
      "like\n",
      "so\n",
      "from\n",
      "or\n",
      "who\n",
      "her\n",
      "just\n",
      "they\n",
      "all\n",
      "the\n",
      "an\n",
      "by\n",
      "be\n",
      "he\n",
      "one\n",
      "at\n",
      "his\n",
      "are\n",
      "have\n",
      "you\n",
      "film\n",
      "on\n",
      "but\n",
      "not\n",
      "movie\n",
      "with\n",
      "for\n",
      "as\n",
      "was\n",
      "that\n",
      "this\n",
      "i\n",
      "it\n",
      "in\n",
      "br\n",
      "is\n",
      "to\n",
      "and\n",
      "of\n",
      "None\n"
     ]
    }
   ],
   "source": [
    "x_freq = x_train[0:1000,:]\n",
    "\n",
    "unique, counts = np.unique(x_freq, return_counts=True)\n",
    "e = [unique, counts]\n",
    "e = np.asarray(e)\n",
    "e = e.T\n",
    "\n",
    "e = e[e[:,1].argsort()]\n",
    "\n",
    "sol = e[8510:, 0]\n",
    "\n",
    "\n",
    "for i in range(50):\n",
    "    print(index_word.get(sol[i]))"
   ]
  },
  {
   "cell_type": "code",
   "execution_count": 9,
   "metadata": {
    "colab": {
     "base_uri": "https://localhost:8080/",
     "height": 417
    },
    "colab_type": "code",
    "executionInfo": {
     "elapsed": 161818,
     "status": "ok",
     "timestamp": 1559209476197,
     "user": {
      "displayName": "qwerteleven kuihuih",
      "photoUrl": "",
      "userId": "17420874050594162777"
     },
     "user_tz": -60
    },
    "id": "fQp1UZp_BvdE",
    "outputId": "dfcdcf83-33fa-4d49-8ed9-e153bf8550b9"
   },
   "outputs": [
    {
     "name": "stdout",
     "output_type": "stream",
     "text": [
      "Epoch 1/10\n",
      "782/782 [==============================] - 16s 21ms/step - loss: 0.3456 - accuracy: 0.8423 - val_loss: 0.2898 - val_accuracy: 0.8773\n",
      "Epoch 2/10\n",
      "782/782 [==============================] - 16s 21ms/step - loss: 0.1941 - accuracy: 0.9244 - val_loss: 0.3119 - val_accuracy: 0.8749\n",
      "Epoch 3/10\n",
      "782/782 [==============================] - 16s 21ms/step - loss: 0.1130 - accuracy: 0.9592 - val_loss: 0.3441 - val_accuracy: 0.8669\n",
      "Epoch 4/10\n",
      "782/782 [==============================] - 16s 21ms/step - loss: 0.0481 - accuracy: 0.9826 - val_loss: 0.5052 - val_accuracy: 0.8592\n",
      "Epoch 5/10\n",
      "782/782 [==============================] - 16s 21ms/step - loss: 0.0264 - accuracy: 0.9902 - val_loss: 0.6209 - val_accuracy: 0.8587\n",
      "Epoch 6/10\n",
      "782/782 [==============================] - 16s 21ms/step - loss: 0.0126 - accuracy: 0.9957 - val_loss: 0.7946 - val_accuracy: 0.8592\n",
      "Epoch 7/10\n",
      "782/782 [==============================] - 16s 21ms/step - loss: 0.0101 - accuracy: 0.9966 - val_loss: 0.8417 - val_accuracy: 0.8528\n",
      "Epoch 8/10\n",
      "782/782 [==============================] - 16s 21ms/step - loss: 0.0160 - accuracy: 0.9943 - val_loss: 0.8706 - val_accuracy: 0.8529\n",
      "Epoch 9/10\n",
      "782/782 [==============================] - 16s 21ms/step - loss: 0.0121 - accuracy: 0.9959 - val_loss: 0.9105 - val_accuracy: 0.8503\n",
      "Epoch 10/10\n",
      "782/782 [==============================] - 16s 21ms/step - loss: 0.0120 - accuracy: 0.9960 - val_loss: 0.8681 - val_accuracy: 0.8560\n"
     ]
    },
    {
     "data": {
      "text/plain": [
       "<tensorflow.python.keras.callbacks.History at 0x1ab689f4148>"
      ]
     },
     "execution_count": 9,
     "metadata": {},
     "output_type": "execute_result"
    }
   ],
   "source": [
    "model = Sequential()\n",
    "\n",
    "model.add(Embedding(max_features,32, input_length= maxlen))\n",
    "model.add(tf.keras.layers.LSTM(32, return_sequences=True))\n",
    "model.add(Flatten())\n",
    "model.add(Dense(30,activation = 'relu'))\n",
    "model.add(Dense(1,activation = 'sigmoid'))\n",
    "\n",
    "model.compile(optimizer='adam', loss='binary_crossentropy',  metrics=['accuracy'])\n",
    "\n",
    "model.fit(x_train,y_train,epochs=5, validation_data=(x_test,y_test))"
   ]
  },
  {
   "cell_type": "code",
   "execution_count": 10,
   "metadata": {
    "colab": {
     "base_uri": "https://localhost:8080/",
     "height": 35
    },
    "colab_type": "code",
    "executionInfo": {
     "elapsed": 851,
     "status": "ok",
     "timestamp": 1559218200189,
     "user": {
      "displayName": "qwerteleven kuihuih",
      "photoUrl": "",
      "userId": "17420874050594162777"
     },
     "user_tz": -60
    },
    "id": "PdqgbkigpTkP",
    "outputId": "80b7e69f-9389-43ed-d4a7-0002bca1f4ee"
   },
   "outputs": [
    {
     "name": "stdout",
     "output_type": "stream",
     "text": [
      "Model: \"sequential_2\"\n",
      "_________________________________________________________________\n",
      "Layer (type)                 Output Shape              Param #   \n",
      "=================================================================\n",
      "embedding_2 (Embedding)      (None, 300, 32)           320000    \n",
      "_________________________________________________________________\n",
      "lstm (LSTM)                  (None, 300, 32)           8320      \n",
      "_________________________________________________________________\n",
      "flatten (Flatten)            (None, 9600)              0         \n",
      "_________________________________________________________________\n",
      "dense (Dense)                (None, 30)                288030    \n",
      "_________________________________________________________________\n",
      "dense_1 (Dense)              (None, 1)                 31        \n",
      "=================================================================\n",
      "Total params: 616,381\n",
      "Trainable params: 616,381\n",
      "Non-trainable params: 0\n",
      "_________________________________________________________________\n",
      "None\n"
     ]
    }
   ],
   "source": [
    "x_train[0:1,:].shape\n",
    "\n",
    "print(model.summary())"
   ]
  },
  {
   "cell_type": "code",
   "execution_count": 11,
   "metadata": {
    "colab": {
     "base_uri": "https://localhost:8080/",
     "height": 254
    },
    "colab_type": "code",
    "executionInfo": {
     "elapsed": 706,
     "status": "ok",
     "timestamp": 1559218707163,
     "user": {
      "displayName": "qwerteleven kuihuih",
      "photoUrl": "",
      "userId": "17420874050594162777"
     },
     "user_tz": -60
    },
    "id": "1cdke8gpoWio",
    "outputId": "99ebd765-5acf-48f2-d158-fe24be67081b"
   },
   "outputs": [
    {
     "data": {
      "text/plain": [
       "array([[[ 0.01422531, -0.04462078,  0.01487336, ..., -0.0352954 ,\n",
       "          0.04165985, -0.04081545],\n",
       "        [ 0.01422531, -0.04462078,  0.01487336, ..., -0.0352954 ,\n",
       "          0.04165985, -0.04081545],\n",
       "        [ 0.01422531, -0.04462078,  0.01487336, ..., -0.0352954 ,\n",
       "          0.04165985, -0.04081545],\n",
       "        ...,\n",
       "        [ 0.03756596,  0.00245842,  0.04154585, ...,  0.06430374,\n",
       "         -0.02673352, -0.01992405],\n",
       "        [ 0.09998078, -0.06040833, -0.10473489, ...,  0.12870932,\n",
       "         -0.05075734,  0.05886845],\n",
       "        [-0.06570345,  0.04742532,  0.01181766, ..., -0.04680649,\n",
       "          0.10554241, -0.01379974]]], dtype=float32)"
      ]
     },
     "execution_count": 11,
     "metadata": {},
     "output_type": "execute_result"
    }
   ],
   "source": [
    "inp = Input(shape=(300,))\n",
    "\n",
    "mod = Model(inputs=inp, outputs=model.layers[0](inp))\n",
    "\n",
    "mod.predict(x_train[0:1,:])"
   ]
  },
  {
   "cell_type": "code",
   "execution_count": 12,
   "metadata": {
    "colab": {
     "base_uri": "https://localhost:8080/",
     "height": 2617
    },
    "colab_type": "code",
    "executionInfo": {
     "elapsed": 744,
     "status": "ok",
     "timestamp": 1559215193635,
     "user": {
      "displayName": "qwerteleven kuihuih",
      "photoUrl": "",
      "userId": "17420874050594162777"
     },
     "user_tz": -60
    },
    "id": "1vz49_9_IJ4i",
    "outputId": "3ef2edcd-c84a-44aa-c508-a8ff012d52b8"
   },
   "outputs": [
    {
     "name": "stdout",
     "output_type": "stream",
     "text": [
      "WARNING:tensorflow:From <ipython-input-12-e970039bc75a>:3: Sequential.predict_classes (from tensorflow.python.keras.engine.sequential) is deprecated and will be removed after 2021-01-01.\n",
      "Instructions for updating:\n",
      "Please use instead:* `np.argmax(model.predict(x), axis=-1)`,   if your model does multi-class classification   (e.g. if it uses a `softmax` last-layer activation).* `(model.predict(x) > 0.5).astype(\"int32\")`,   if your model does binary classification   (e.g. if it uses a `sigmoid` last-layer activation).\n",
      "[[0]]\n",
      "the\n",
      "as\n",
      "there\n",
      "in\n",
      "at\n",
      "by\n",
      "br\n",
      "of\n",
      "sure\n",
      "many\n",
      "br\n",
      "of\n",
      "proving\n",
      "no\n",
      "only\n",
      "women\n",
      "was\n",
      "than\n",
      "doesn't\n",
      "as\n",
      "you\n",
      "never\n",
      "of\n",
      "hat\n",
      "night\n",
      "that\n",
      "with\n",
      "ignored\n",
      "they\n",
      "bad\n",
      "out\n",
      "superman\n",
      "plays\n",
      "of\n",
      "how\n",
      "star\n",
      "so\n",
      "stories\n",
      "film\n",
      "comes\n",
      "defense\n",
      "date\n",
      "of\n",
      "wide\n",
      "they\n",
      "don't\n",
      "do\n",
      "that\n",
      "had\n",
      "with\n",
      "of\n",
      "hollywood\n",
      "br\n",
      "of\n",
      "my\n",
      "seeing\n",
      "fan\n",
      "this\n",
      "of\n",
      "pop\n",
      "out\n",
      "body\n",
      "shots\n",
      "in\n",
      "having\n",
      "because\n",
      "cause\n",
      "it's\n",
      "stick\n",
      "passing\n",
      "first\n",
      "were\n",
      "enjoys\n",
      "for\n",
      "from\n",
      "look\n",
      "seven\n",
      "sense\n",
      "from\n",
      "me\n",
      "and\n",
      "die\n",
      "in\n",
      "character\n",
      "as\n",
      "cuban\n",
      "issues\n",
      "but\n",
      "is\n",
      "you\n",
      "that\n",
      "isn't\n",
      "one\n",
      "song\n",
      "just\n",
      "is\n",
      "him\n",
      "less\n",
      "are\n",
      "strongly\n",
      "not\n",
      "are\n",
      "you\n",
      "that\n",
      "different\n",
      "just\n",
      "even\n",
      "by\n",
      "this\n",
      "of\n",
      "you\n",
      "there\n",
      "is\n",
      "eight\n",
      "when\n",
      "it\n",
      "part\n",
      "are\n",
      "film's\n",
      "love\n",
      "film's\n",
      "80's\n",
      "was\n",
      "big\n",
      "also\n",
      "light\n",
      "don't\n",
      "and\n",
      "as\n",
      "it\n",
      "in\n",
      "character\n",
      "looked\n",
      "cinematography\n",
      "so\n",
      "stories\n",
      "is\n",
      "far\n",
      "br\n",
      "man\n",
      "acting\n"
     ]
    }
   ],
   "source": [
    "data = x_train[2:3,:]\n",
    "\n",
    "pre = model.predict_classes(data)\n",
    "print (pre)\n",
    "\n",
    "data1 = np.ravel(data)\n",
    "\n",
    "for i in range(data.size):\n",
    "    if (data1[i] != 0):\n",
    "        print (index_word.get(data1[i]))\n"
   ]
  },
  {
   "cell_type": "code",
   "execution_count": 13,
   "metadata": {
    "colab": {},
    "colab_type": "code",
    "id": "jb_c2I6NTjpd"
   },
   "outputs": [],
   "source": [
    "data = \"In markets such as the UK, where high-priced contracts are commonplace, such a low handset-only pricing should prove enticing to those after a high-end experience without the income to match. The only question mark falls to the phone’s long-term support, with an unconfirmed path for OS and security updates going forward.Elsewhere, the hardware and software experience feels as tight as any top-tier phone you’d find on store shelves right now – which get you thinking about what the higher price tag of phones such as the iPhone XS actually affords you.\"\n",
    "\n",
    "data = data.split(' ')\n",
    "data = np.asarray(data)\n",
    "\n",
    "e = np.zeros((1,300))\n",
    "\n",
    "for i in range(data.size):\n",
    "    if (word_index.get(data[i]) != None):    \n",
    "        e[0,299 - i] = word_index.get(data[i])\n",
    "\n",
    "\n",
    "        "
   ]
  },
  {
   "cell_type": "code",
   "execution_count": 14,
   "metadata": {
    "colab": {
     "base_uri": "https://localhost:8080/",
     "height": 35
    },
    "colab_type": "code",
    "executionInfo": {
     "elapsed": 799,
     "status": "ok",
     "timestamp": 1559216158062,
     "user": {
      "displayName": "qwerteleven kuihuih",
      "photoUrl": "",
      "userId": "17420874050594162777"
     },
     "user_tz": -60
    },
    "id": "ByK_OkYnbRuY",
    "outputId": "815ba0cb-1420-4d7c-cb83-69fbc48713a9"
   },
   "outputs": [
    {
     "name": "stdout",
     "output_type": "stream",
     "text": [
      "[[0]]\n"
     ]
    }
   ],
   "source": [
    "\n",
    "pre = model.predict_classes(x_train[4:5,:])\n",
    "\n",
    "print (pre)"
   ]
  },
  {
   "cell_type": "code",
   "execution_count": 15,
   "metadata": {
    "colab": {},
    "colab_type": "code",
    "id": "VQx_FHezlbm7"
   },
   "outputs": [],
   "source": [
    "from sklearn.decomposition import PCA\n",
    "from matplotlib import cm, pyplot as plt"
   ]
  },
  {
   "cell_type": "code",
   "execution_count": null,
   "metadata": {
    "colab": {
     "base_uri": "https://localhost:8080/",
     "height": 495
    },
    "colab_type": "code",
    "executionInfo": {
     "elapsed": 10471,
     "status": "error",
     "timestamp": 1559220787994,
     "user": {
      "displayName": "qwerteleven kuihuih",
      "photoUrl": "",
      "userId": "17420874050594162777"
     },
     "user_tz": -60
    },
    "id": "Uj0YjS39l3W3",
    "outputId": "16898e27-0b98-4054-a837-3c818bc4ce8b"
   },
   "outputs": [],
   "source": [
    "X = mod.predict(x_train)\n",
    "plt.scatter(X[:,0], X[:,1])\n",
    "plt.show()\n",
    "pca = PCA()\n",
    "X = pca.fit(X)\n",
    "plt.scatter(X[:,0], X[:,1])\n",
    "plt.show()\n"
   ]
  }
 ],
 "metadata": {
  "accelerator": "GPU",
  "colab": {
   "collapsed_sections": [],
   "name": "Copia de - Notebook 15 - Análisis de Sentimiento.ipynb",
   "provenance": [
    {
     "file_id": "1knZl9XSSKFL7hnwapKYKui-2G7ROWyj9",
     "timestamp": 1559204148918
    },
    {
     "file_id": "1DvMRpBT2DPzPLcTznzJpn7aAWvR7OWeh",
     "timestamp": 1559203910843
    }
   ],
   "version": "0.3.2"
  },
  "kernelspec": {
   "display_name": "Python 3",
   "language": "python",
   "name": "python3"
  },
  "language_info": {
   "codemirror_mode": {
    "name": "ipython",
    "version": 3
   },
   "file_extension": ".py",
   "mimetype": "text/x-python",
   "name": "python",
   "nbconvert_exporter": "python",
   "pygments_lexer": "ipython3",
   "version": "3.7.6"
  }
 },
 "nbformat": 4,
 "nbformat_minor": 1
}
