{
 "cells": [
  {
   "cell_type": "markdown",
   "metadata": {
    "colab_type": "text",
    "id": "1AiATNn-i-Qi"
   },
   "source": [
    "# <center> Convolutional Networks </center>"
   ]
  },
  {
   "cell_type": "code",
   "execution_count": 1,
   "metadata": {
    "colab": {
     "base_uri": "https://localhost:8080/",
     "height": 70
    },
    "colab_type": "code",
    "executionInfo": {
     "elapsed": 10674,
     "status": "ok",
     "timestamp": 1558993941267,
     "user": {
      "displayName": "Carlos Santana",
      "photoUrl": "https://lh4.googleusercontent.com/-CeMGa-V2idY/AAAAAAAAAAI/AAAAAAAAO2Q/22S5ucbTeu8/s64/photo.jpg",
      "userId": "06972008324074016783"
     },
     "user_tz": -60
    },
    "id": "jFDIbRQMlHU2",
    "outputId": "681f4dc3-d9f7-47ae-e378-adaf08e2bb70"
   },
   "outputs": [],
   "source": [
    "import numpy             as np\n",
    "import scipy             as sc\n",
    "import sklearn           as sk\n",
    "import pandas            as pd\n",
    "import matplotlib.pyplot as plt\n",
    "import tensorboard       as tb\n",
    "import tensorflow        as tf\n",
    "import pickle\n",
    "\n",
    "%load_ext tensorboard\n",
    "\n",
    "\n",
    "from scipy.ndimage           import shift\n",
    "from scipy.ndimage           import rotate\n",
    "from sklearn.model_selection import train_test_split\n",
    "from tensorflow.keras.utils  import to_categorical\n",
    "\n",
    "\n",
    "from tensorflow.keras.models import Sequential\n",
    "from tensorflow.keras.layers import InputLayer, Input, Dropout\n",
    "from tensorflow.keras.layers import Reshape, MaxPooling2D\n",
    "from tensorflow.keras.layers import Conv2D, Dense, Flatten, ReLU, BatchNormalization"
   ]
  },
  {
   "cell_type": "code",
   "execution_count": null,
   "metadata": {
    "colab": {
     "base_uri": "https://localhost:8080/",
     "height": 70
    },
    "colab_type": "code",
    "executionInfo": {
     "elapsed": 10674,
     "status": "ok",
     "timestamp": 1558993941267,
     "user": {
      "displayName": "Carlos Santana",
      "photoUrl": "https://lh4.googleusercontent.com/-CeMGa-V2idY/AAAAAAAAAAI/AAAAAAAAO2Q/22S5ucbTeu8/s64/photo.jpg",
      "userId": "06972008324074016783"
     },
     "user_tz": -60
    },
    "id": "jFDIbRQMlHU2",
    "outputId": "681f4dc3-d9f7-47ae-e378-adaf08e2bb70"
   },
   "outputs": [],
   "source": [
    "mnist = pd.read_csv(\"./mnist_train_small.csv\", header=None, sep=\";\").values\n",
    "\n",
    "X, Y = mnist[:, 1:], mnist[:, 0:1]\n",
    "\n",
    "Xt = X / 255.0\n",
    "Yt = to_categorical(Y, 10)\n",
    "\n",
    "\n",
    "X_train, X_test, Y_train, Y_test = train_test_split(Xt, Yt, train_size=0.7)"
   ]
  },
  {
   "cell_type": "code",
   "execution_count": null,
   "metadata": {
    "colab": {
     "base_uri": "https://localhost:8080/",
     "height": 70
    },
    "colab_type": "code",
    "executionInfo": {
     "elapsed": 10674,
     "status": "ok",
     "timestamp": 1558993941267,
     "user": {
      "displayName": "Carlos Santana",
      "photoUrl": "https://lh4.googleusercontent.com/-CeMGa-V2idY/AAAAAAAAAAI/AAAAAAAAO2Q/22S5ucbTeu8/s64/photo.jpg",
      "userId": "06972008324074016783"
     },
     "user_tz": -60
    },
    "id": "jFDIbRQMlHU2",
    "outputId": "681f4dc3-d9f7-47ae-e378-adaf08e2bb70"
   },
   "outputs": [],
   "source": [
    "def traslate_imgs(X):\n",
    "\n",
    "    trasl_X = np.zeros(X.shape)\n",
    "\n",
    "    for ix, x in enumerate(X):\n",
    "        \n",
    "        rx = x.reshape(28, 28)\n",
    "        \n",
    "        shift_x = np.random.randint(14) - 7\n",
    "        shift_y = np.random.randint(14) - 7\n",
    "        trasl_X[ix] = shift(x.reshape(28, 28), (shift_x, shift_y)).flatten()\n",
    "\n",
    "    return trasl_X"
   ]
  },
  {
   "cell_type": "code",
   "execution_count": null,
   "metadata": {},
   "outputs": [],
   "source": [
    "def rotate_imgs(X):\n",
    "\n",
    "    rot_X = np.zeros(X.shape)\n",
    "\n",
    "    for ix, x in enumerate(X):\n",
    "    \n",
    "        rx = x.reshape(28, 28)\n",
    "        angle = np.random.randint(180) - 90\n",
    "        rot_X[ix] = rotate(x.reshape(28, 28), angle, reshape=False, prefilter=False, order=1).flatten()\n",
    "    \n",
    "    return rot_X"
   ]
  },
  {
   "cell_type": "code",
   "execution_count": null,
   "metadata": {
    "colab": {
     "base_uri": "https://localhost:8080/",
     "height": 70
    },
    "colab_type": "code",
    "executionInfo": {
     "elapsed": 10674,
     "status": "ok",
     "timestamp": 1558993941267,
     "user": {
      "displayName": "Carlos Santana",
      "photoUrl": "https://lh4.googleusercontent.com/-CeMGa-V2idY/AAAAAAAAAAI/AAAAAAAAO2Q/22S5ucbTeu8/s64/photo.jpg",
      "userId": "06972008324074016783"
     },
     "user_tz": -60
    },
    "id": "jFDIbRQMlHU2",
    "outputId": "681f4dc3-d9f7-47ae-e378-adaf08e2bb70"
   },
   "outputs": [],
   "source": [
    "def noise_imgs(X, noise_level=0.5):\n",
    "\n",
    "    nois_X = np.zeros(X.shape)\n",
    "\n",
    "    for ix, x in enumerate(X):\n",
    "    \n",
    "        rx = x.reshape(28, 28)\n",
    "    \n",
    "        noise = (np.random.random(x.shape) * 2.0  - 1) * noise_level\n",
    "        nois_X[ix] = np.clip(x + noise, 0.0, 1.0).flatten()\n",
    "\n",
    "    return nois_X"
   ]
  },
  {
   "cell_type": "code",
   "execution_count": null,
   "metadata": {
    "colab": {
     "base_uri": "https://localhost:8080/",
     "height": 70
    },
    "colab_type": "code",
    "executionInfo": {
     "elapsed": 10674,
     "status": "ok",
     "timestamp": 1558993941267,
     "user": {
      "displayName": "Carlos Santana",
      "photoUrl": "https://lh4.googleusercontent.com/-CeMGa-V2idY/AAAAAAAAAAI/AAAAAAAAO2Q/22S5ucbTeu8/s64/photo.jpg",
      "userId": "06972008324074016783"
     },
     "user_tz": -60
    },
    "id": "jFDIbRQMlHU2",
    "outputId": "681f4dc3-d9f7-47ae-e378-adaf08e2bb70"
   },
   "outputs": [],
   "source": [
    "def augmentDataset(X, Y):\n",
    "    \n",
    "    trasX = traslate_imgs(X)\n",
    "    rotaX = rotate_imgs(X)\n",
    "    \n",
    "    no50X = noise_imgs(X, 0.5)\n",
    "    no25X = noise_imgs(X, 0.25)\n",
    "\n",
    "    augmX = np.vstack([X, \n",
    "                    trasX, \n",
    "                    rotaX, \n",
    "                    no50X, \n",
    "                    no25X])\n",
    "\n",
    "    augmY = np.tile(Y, (5,1))\n",
    "\n",
    "    return augmX, augmY"
   ]
  },
  {
   "cell_type": "code",
   "execution_count": null,
   "metadata": {
    "colab": {
     "base_uri": "https://localhost:8080/",
     "height": 70
    },
    "colab_type": "code",
    "executionInfo": {
     "elapsed": 10674,
     "status": "ok",
     "timestamp": 1558993941267,
     "user": {
      "displayName": "Carlos Santana",
      "photoUrl": "https://lh4.googleusercontent.com/-CeMGa-V2idY/AAAAAAAAAAI/AAAAAAAAO2Q/22S5ucbTeu8/s64/photo.jpg",
      "userId": "06972008324074016783"
     },
     "user_tz": -60
    },
    "id": "jFDIbRQMlHU2",
    "outputId": "681f4dc3-d9f7-47ae-e378-adaf08e2bb70"
   },
   "outputs": [],
   "source": [
    "augmX_train, augmY_train = augmentDataset(X_train, Y_train)\n",
    "augmX_test,  augmY_test  = augmentDataset(X_test, Y_test)\n",
    "\n",
    "print(X_train.shape, augmX_train.shape)\n",
    "print(X_test.shape,  augmX_test.shape)"
   ]
  },
  {
   "cell_type": "code",
   "execution_count": null,
   "metadata": {
    "colab": {
     "base_uri": "https://localhost:8080/",
     "height": 185
    },
    "colab_type": "code",
    "executionInfo": {
     "elapsed": 2325,
     "status": "ok",
     "timestamp": 1558993953319,
     "user": {
      "displayName": "Carlos Santana",
      "photoUrl": "https://lh4.googleusercontent.com/-CeMGa-V2idY/AAAAAAAAAAI/AAAAAAAAO2Q/22S5ucbTeu8/s64/photo.jpg",
      "userId": "06972008324074016783"
     },
     "user_tz": -60
    },
    "id": "1Gpbu8_5He6f",
    "outputId": "8f1c6f51-4d1a-48b5-d8ee-e501b6a34acc"
   },
   "outputs": [],
   "source": [
    "# Visualizamos los datos generados.\n",
    "idx = 100\n",
    "\n",
    "fig, axs = plt.subplots(1,5,figsize=(12,12))\n",
    "\n",
    "axs[0].matshow(augmX_train[idx + len(X_train) * 0,:].reshape(28, 28))\n",
    "axs[1].matshow(augmX_train[idx + len(X_train) * 1,:].reshape(28, 28))\n",
    "axs[2].matshow(augmX_train[idx + len(X_train) * 2,:].reshape(28, 28))\n",
    "axs[3].matshow(augmX_train[idx + len(X_train) * 3,:].reshape(28, 28))\n",
    "axs[4].matshow(augmX_train[idx + len(X_train) * 4,:].reshape(28, 28))\n",
    "\n",
    "plt.show()"
   ]
  },
  {
   "cell_type": "code",
   "execution_count": null,
   "metadata": {
    "colab": {
     "base_uri": "https://localhost:8080/",
     "height": 1234
    },
    "colab_type": "code",
    "executionInfo": {
     "elapsed": 70899,
     "status": "ok",
     "timestamp": 1558994029791,
     "user": {
      "displayName": "Carlos Santana",
      "photoUrl": "https://lh4.googleusercontent.com/-CeMGa-V2idY/AAAAAAAAAAI/AAAAAAAAO2Q/22S5ucbTeu8/s64/photo.jpg",
      "userId": "06972008324074016783"
     },
     "user_tz": -60
    },
    "id": "iQp7LNDVlheG",
    "outputId": "1f67b133-108b-481f-ab9d-dac6c841ab28"
   },
   "outputs": [],
   "source": [
    "model = Sequential()\n",
    "\n",
    "\n",
    "model.add(Conv2D(kernel_size=5, strides=1, filters=8, padding='same', name='layer_conv1'))\n",
    "model.add(BatchNormalization())\n",
    "model.add(ReLU())\n",
    "\n",
    "model.add(MaxPooling2D(pool_size=2, strides=2))\n",
    "\n",
    "\n",
    "model.add(Conv2D(kernel_size=5, strides=1, filters=16, padding='same', name='layer_conv2'))\n",
    "model.add(BatchNormalization())\n",
    "model.add(ReLU())\n",
    "\n",
    "model.add(MaxPooling2D(pool_size=2, strides=2))\n",
    "\n",
    "\n",
    "model.add(Conv2D(kernel_size=5, strides=1, filters=32, padding='same', name='layer_conv3'))\n",
    "model.add(BatchNormalization())\n",
    "model.add(ReLU())\n",
    "\n",
    "model.add(MaxPooling2D(pool_size=2, strides=2))\n",
    "\n",
    "\n",
    "model.add(Flatten())\n",
    "\n",
    "model.add(Dense(128, activation='relu'))\n",
    "model.add(Dense(10, activation='softmax'))"
   ]
  },
  {
   "cell_type": "code",
   "execution_count": null,
   "metadata": {
    "colab": {
     "base_uri": "https://localhost:8080/",
     "height": 1234
    },
    "colab_type": "code",
    "executionInfo": {
     "elapsed": 70899,
     "status": "ok",
     "timestamp": 1558994029791,
     "user": {
      "displayName": "Carlos Santana",
      "photoUrl": "https://lh4.googleusercontent.com/-CeMGa-V2idY/AAAAAAAAAAI/AAAAAAAAO2Q/22S5ucbTeu8/s64/photo.jpg",
      "userId": "06972008324074016783"
     },
     "user_tz": -60
    },
    "id": "iQp7LNDVlheG",
    "outputId": "1f67b133-108b-481f-ab9d-dac6c841ab28"
   },
   "outputs": [],
   "source": [
    "model.compile(optimizer=tf.keras.optimizers.SGD(0.05),\n",
    "              loss='categorical_crossentropy',\n",
    "              metrics=['acc'])"
   ]
  },
  {
   "cell_type": "code",
   "execution_count": null,
   "metadata": {
    "colab": {
     "base_uri": "https://localhost:8080/",
     "height": 1234
    },
    "colab_type": "code",
    "executionInfo": {
     "elapsed": 70899,
     "status": "ok",
     "timestamp": 1558994029791,
     "user": {
      "displayName": "Carlos Santana",
      "photoUrl": "https://lh4.googleusercontent.com/-CeMGa-V2idY/AAAAAAAAAAI/AAAAAAAAO2Q/22S5ucbTeu8/s64/photo.jpg",
      "userId": "06972008324074016783"
     },
     "user_tz": -60
    },
    "id": "iQp7LNDVlheG",
    "outputId": "1f67b133-108b-481f-ab9d-dac6c841ab28",
    "scrolled": true
   },
   "outputs": [],
   "source": [
    "logdir=\"logs/MNIST-Convolutional-DataAugmentation\"\n",
    "\n",
    "tf.profiler.experimental.start(logdir=logdir)\n",
    "\n",
    "model.fit(x=augmX_train.reshape(augmX_train.shape[0], 28, 28, 1), \n",
    "          y=augmY_train,\n",
    "          validation_data=(augmX_test.reshape(augmX_test.shape[0], 28, 28, 1), augmY_test),\n",
    "          epochs=20,\n",
    "          batch_size=64)\n",
    "\n",
    "tf.profiler.experimental.stop()"
   ]
  },
  {
   "cell_type": "code",
   "execution_count": null,
   "metadata": {
    "colab": {
     "base_uri": "https://localhost:8080/",
     "height": 668
    },
    "colab_type": "code",
    "executionInfo": {
     "elapsed": 1421,
     "status": "ok",
     "timestamp": 1558994323023,
     "user": {
      "displayName": "Carlos Santana",
      "photoUrl": "https://lh4.googleusercontent.com/-CeMGa-V2idY/AAAAAAAAAAI/AAAAAAAAO2Q/22S5ucbTeu8/s64/photo.jpg",
      "userId": "06972008324074016783"
     },
     "user_tz": -60
    },
    "id": "8doizt2j08Rl",
    "outputId": "9e67c98c-0615-4feb-e396-332d2d41db43"
   },
   "outputs": [],
   "source": [
    "model.summary()"
   ]
  },
  {
   "cell_type": "code",
   "execution_count": 18,
   "metadata": {},
   "outputs": [
    {
     "data": {
      "text/plain": [
       "ERROR: Timed out waiting for TensorBoard to start. It may still be running as pid 1768."
      ]
     },
     "metadata": {},
     "output_type": "display_data"
    }
   ],
   "source": [
    "# localhost:6006\n",
    "\n",
    "%tensorboard --logdir=\"logs\" --port=6007"
   ]
  },
  {
   "cell_type": "markdown",
   "metadata": {
    "colab_type": "text",
    "id": "aUGxsrOCo6cM"
   },
   "source": [
    "## CIFAR100 - Dataset\n",
    "\n",
    "---\n"
   ]
  },
  {
   "cell_type": "code",
   "execution_count": 2,
   "metadata": {},
   "outputs": [],
   "source": [
    "def unpickle(file):\n",
    "    with open(file, 'rb') as fo:\n",
    "        dict = pickle.load(fo, encoding='bytes')\n",
    "    return dict"
   ]
  },
  {
   "cell_type": "code",
   "execution_count": 3,
   "metadata": {},
   "outputs": [],
   "source": [
    "train = unpickle(\"./cifar-100-python/train\")\n",
    "test  = unpickle(\"./cifar-100-python/test\")"
   ]
  },
  {
   "cell_type": "code",
   "execution_count": 4,
   "metadata": {},
   "outputs": [],
   "source": [
    "x_train = train[b'data'].reshape(50000, 3, 32, 32).transpose(0, 2, 3, 1)\n",
    "y_train = to_categorical(train[b'coarse_labels'], 100)\n",
    "\n",
    "x_test  = test[b'data'].reshape(10000, 3, 32, 32).transpose(0, 2, 3, 1)\n",
    "y_test  = to_categorical(test[b'coarse_labels'], 100)"
   ]
  },
  {
   "cell_type": "code",
   "execution_count": 5,
   "metadata": {},
   "outputs": [],
   "source": [
    "datagen_train = tf.keras.preprocessing.image.ImageDataGenerator(\n",
    "    featurewise_center=True,\n",
    "    featurewise_std_normalization=True,\n",
    "    rotation_range=20,\n",
    "    width_shift_range=0.2,\n",
    "    height_shift_range=0.2,\n",
    "    horizontal_flip=True)\n",
    "\n",
    "datagen_test = tf.keras.preprocessing.image.ImageDataGenerator(\n",
    "    featurewise_center=True,\n",
    "    featurewise_std_normalization=True,\n",
    "    rotation_range=20,\n",
    "    width_shift_range=0.2,\n",
    "    height_shift_range=0.2,\n",
    "    horizontal_flip=True)\n",
    "\n",
    "\n",
    "datagen_train.fit(x_train)\n",
    "datagen_test.fit(x_test)\n"
   ]
  },
  {
   "cell_type": "code",
   "execution_count": 6,
   "metadata": {},
   "outputs": [
    {
     "data": {
      "image/png": "[encoded data removed]",
      "text/plain": [
       "<Figure size 864x864 with 1 Axes>"
      ]
     },
     "metadata": {
      "needs_background": "light"
     },
     "output_type": "display_data"
    }
   ],
   "source": [
    "fig, axs = plt.subplots(1,1,figsize=(12,12))\n",
    "axs.imshow(x_train[0])\n",
    "plt.show()"
   ]
  },
  {
   "cell_type": "code",
   "execution_count": 7,
   "metadata": {},
   "outputs": [],
   "source": [
    "model = Sequential()\n",
    "\n",
    "\n",
    "model.add(Conv2D(kernel_size=3, strides=1, filters=8, padding='same', name='layer_conv1'))\n",
    "\n",
    "model.add(BatchNormalization())\n",
    "model.add(ReLU())\n",
    "\n",
    "model.add(MaxPooling2D(pool_size=2, strides=1))\n",
    "\n",
    "\n",
    "model.add(Conv2D(kernel_size=3, strides=1, filters=16, name='layer_conv2'))\n",
    "\n",
    "model.add(BatchNormalization())\n",
    "model.add(ReLU())\n",
    "\n",
    "model.add(MaxPooling2D(pool_size=2, strides=1))\n",
    "\n",
    "\n",
    "model.add(Conv2D(kernel_size=5, strides=1, filters=32, padding='same', name='layer_conv3'))\n",
    "\n",
    "model.add(BatchNormalization())\n",
    "model.add(ReLU())\n",
    "\n",
    "model.add(MaxPooling2D(pool_size=2, strides=1))\n",
    "\n",
    "\n",
    "model.add(Conv2D(kernel_size=5, strides=1, filters=64, name='layer_conv4'))\n",
    "\n",
    "\n",
    "model.add(BatchNormalization())\n",
    "model.add(ReLU())\n",
    "\n",
    "model.add(MaxPooling2D(pool_size=2, strides=1))\n",
    "\n",
    "model.add(Conv2D(kernel_size=5, strides=1, filters=128, padding='same', name='layer_conv5'))\n",
    "\n",
    "model.add(BatchNormalization())\n",
    "model.add(ReLU())\n",
    "\n",
    "model.add(MaxPooling2D(pool_size=2, strides=1))\n",
    "\n",
    "\n",
    "\n",
    "\n",
    "model.add(Flatten())\n",
    "\n",
    "model.add(Dense(512, activation='relu'))\n",
    "\n",
    "model.add(Dense(256, activation='relu'))\n",
    "\n",
    "model.add(Dense(128, activation='relu'))\n",
    "\n",
    "model.add(Dense(100, activation='softmax'))"
   ]
  },
  {
   "cell_type": "code",
   "execution_count": 8,
   "metadata": {},
   "outputs": [],
   "source": [
    "model.compile(optimizer=tf.keras.optimizers.Adam(),\n",
    "              loss='categorical_crossentropy',\n",
    "              metrics=['acc'])"
   ]
  },
  {
   "cell_type": "code",
   "execution_count": 21,
   "metadata": {},
   "outputs": [
    {
     "name": "stdout",
     "output_type": "stream",
     "text": [
      "Epoch 1/50\n",
      "  2/781 [..............................] - ETA: 1:30 - loss: 1.0500 - acc: 0.6875WARNING:tensorflow:Callbacks method `on_train_batch_end` is slow compared to the batch time (batch time: 0.0177s vs `on_train_batch_end` time: 0.1911s). Check your callbacks.\n",
      "782/781 [==============================] - 41s 53ms/step - loss: 0.9632 - acc: 0.6936 - val_loss: 1.3549 - val_acc: 0.5994\n",
      "Epoch 2/50\n",
      "782/781 [==============================] - 41s 52ms/step - loss: 0.9564 - acc: 0.6973 - val_loss: 1.3076 - val_acc: 0.6110\n",
      "Epoch 3/50\n",
      "782/781 [==============================] - 39s 50ms/step - loss: 0.9486 - acc: 0.6999 - val_loss: 1.2413 - val_acc: 0.6283\n",
      "Epoch 4/50\n",
      "782/781 [==============================] - 40s 51ms/step - loss: 0.9390 - acc: 0.7015 - val_loss: 1.3317 - val_acc: 0.6036\n",
      "Epoch 5/50\n",
      "782/781 [==============================] - 37s 47ms/step - loss: 0.9442 - acc: 0.6985 - val_loss: 1.2783 - val_acc: 0.6163\n",
      "Epoch 6/50\n",
      "782/781 [==============================] - 38s 48ms/step - loss: 0.9425 - acc: 0.6978 - val_loss: 1.3132 - val_acc: 0.6127\n",
      "Epoch 7/50\n",
      "782/781 [==============================] - 39s 50ms/step - loss: 0.9426 - acc: 0.7010 - val_loss: 1.4167 - val_acc: 0.5845\n",
      "Epoch 8/50\n",
      "782/781 [==============================] - 37s 47ms/step - loss: 0.9449 - acc: 0.6992 - val_loss: 1.3453 - val_acc: 0.6022\n",
      "Epoch 9/50\n",
      "782/781 [==============================] - 38s 48ms/step - loss: 0.9356 - acc: 0.7017 - val_loss: 1.2451 - val_acc: 0.6183\n",
      "Epoch 10/50\n",
      "782/781 [==============================] - 38s 49ms/step - loss: 0.9421 - acc: 0.7010 - val_loss: 1.3379 - val_acc: 0.6053\n",
      "Epoch 11/50\n",
      "782/781 [==============================] - 41s 53ms/step - loss: 0.9374 - acc: 0.7016 - val_loss: 1.2633 - val_acc: 0.6203\n",
      "Epoch 12/50\n",
      "782/781 [==============================] - 40s 51ms/step - loss: 0.9271 - acc: 0.7038 - val_loss: 1.2187 - val_acc: 0.6281\n",
      "Epoch 13/50\n",
      "782/781 [==============================] - 40s 51ms/step - loss: 0.9340 - acc: 0.7018 - val_loss: 1.3595 - val_acc: 0.6012\n",
      "Epoch 14/50\n",
      "782/781 [==============================] - 38s 49ms/step - loss: 0.9611 - acc: 0.6943 - val_loss: 1.2507 - val_acc: 0.6270\n",
      "Epoch 15/50\n",
      "782/781 [==============================] - 38s 48ms/step - loss: 0.9271 - acc: 0.7042 - val_loss: 1.2306 - val_acc: 0.6273\n",
      "Epoch 16/50\n",
      "782/781 [==============================] - 39s 50ms/step - loss: 0.9223 - acc: 0.7053 - val_loss: 1.2630 - val_acc: 0.6173\n",
      "Epoch 17/50\n",
      "782/781 [==============================] - 40s 51ms/step - loss: 0.9236 - acc: 0.7052 - val_loss: 1.2942 - val_acc: 0.6171\n",
      "Epoch 18/50\n",
      "782/781 [==============================] - 38s 49ms/step - loss: 0.9180 - acc: 0.7101 - val_loss: 1.2891 - val_acc: 0.6168\n",
      "Epoch 19/50\n",
      "782/781 [==============================] - 38s 49ms/step - loss: 0.9229 - acc: 0.7060 - val_loss: 1.2426 - val_acc: 0.6217\n",
      "Epoch 20/50\n",
      "782/781 [==============================] - 38s 49ms/step - loss: 0.9132 - acc: 0.7102 - val_loss: 1.3143 - val_acc: 0.6212\n",
      "Epoch 21/50\n",
      "782/781 [==============================] - 39s 49ms/step - loss: 0.9193 - acc: 0.7094 - val_loss: 1.3124 - val_acc: 0.6108\n",
      "Epoch 22/50\n",
      "782/781 [==============================] - 37s 48ms/step - loss: 0.9169 - acc: 0.7076 - val_loss: 1.2298 - val_acc: 0.6232\n",
      "Epoch 23/50\n",
      "782/781 [==============================] - 38s 48ms/step - loss: 0.9179 - acc: 0.7062 - val_loss: 1.2454 - val_acc: 0.6268\n",
      "Epoch 24/50\n",
      "782/781 [==============================] - 38s 49ms/step - loss: 0.9144 - acc: 0.7075 - val_loss: 1.3671 - val_acc: 0.6004\n",
      "Epoch 25/50\n",
      "782/781 [==============================] - 41s 52ms/step - loss: 0.9083 - acc: 0.7110 - val_loss: 1.3910 - val_acc: 0.5936\n",
      "Epoch 26/50\n",
      "782/781 [==============================] - 41s 52ms/step - loss: 0.9146 - acc: 0.7089 - val_loss: 1.2358 - val_acc: 0.6317\n",
      "Epoch 27/50\n",
      "782/781 [==============================] - 44s 56ms/step - loss: 0.9238 - acc: 0.7067 - val_loss: 1.2401 - val_acc: 0.6231\n",
      "Epoch 28/50\n",
      "782/781 [==============================] - 44s 57ms/step - loss: 0.9041 - acc: 0.7161 - val_loss: 1.4391 - val_acc: 0.5877\n",
      "Epoch 29/50\n",
      "782/781 [==============================] - 44s 56ms/step - loss: 0.9133 - acc: 0.7103 - val_loss: 1.2406 - val_acc: 0.6311\n",
      "Epoch 30/50\n",
      "782/781 [==============================] - 44s 57ms/step - loss: 0.9084 - acc: 0.7097 - val_loss: 1.2422 - val_acc: 0.6227\n",
      "Epoch 31/50\n",
      "782/781 [==============================] - 39s 50ms/step - loss: 0.8998 - acc: 0.7129 - val_loss: 1.2510 - val_acc: 0.6292\n",
      "Epoch 32/50\n",
      "782/781 [==============================] - 40s 51ms/step - loss: 0.9071 - acc: 0.7104 - val_loss: 1.2878 - val_acc: 0.6183\n",
      "Epoch 33/50\n",
      "782/781 [==============================] - 40s 51ms/step - loss: 0.9026 - acc: 0.7107 - val_loss: 1.2827 - val_acc: 0.6230\n",
      "Epoch 34/50\n",
      "782/781 [==============================] - 39s 50ms/step - loss: 0.8969 - acc: 0.7157 - val_loss: 1.3350 - val_acc: 0.6126\n",
      "Epoch 35/50\n",
      "782/781 [==============================] - 39s 50ms/step - loss: 0.8984 - acc: 0.7140 - val_loss: 1.2705 - val_acc: 0.6213\n",
      "Epoch 36/50\n",
      "782/781 [==============================] - 39s 50ms/step - loss: 0.9103 - acc: 0.7120 - val_loss: 1.2568 - val_acc: 0.6241\n",
      "Epoch 37/50\n",
      "782/781 [==============================] - 40s 51ms/step - loss: 0.8890 - acc: 0.7185 - val_loss: 1.2959 - val_acc: 0.6155\n",
      "Epoch 38/50\n",
      "782/781 [==============================] - 41s 53ms/step - loss: 0.8918 - acc: 0.7159 - val_loss: 1.2651 - val_acc: 0.6214\n",
      "Epoch 39/50\n",
      "782/781 [==============================] - 40s 51ms/step - loss: 0.8918 - acc: 0.7161 - val_loss: 1.2526 - val_acc: 0.6256\n",
      "Epoch 40/50\n",
      "782/781 [==============================] - 41s 52ms/step - loss: 0.9008 - acc: 0.7149 - val_loss: 1.2056 - val_acc: 0.6302\n",
      "Epoch 41/50\n",
      "782/781 [==============================] - 40s 52ms/step - loss: 0.8923 - acc: 0.7164 - val_loss: 1.2975 - val_acc: 0.6151\n",
      "Epoch 42/50\n",
      "782/781 [==============================] - 41s 52ms/step - loss: 0.8814 - acc: 0.7197 - val_loss: 1.2434 - val_acc: 0.6245\n",
      "Epoch 43/50\n",
      "782/781 [==============================] - 41s 52ms/step - loss: 0.8871 - acc: 0.7165 - val_loss: 1.3250 - val_acc: 0.6126\n",
      "Epoch 44/50\n",
      "782/781 [==============================] - 41s 52ms/step - loss: 0.8979 - acc: 0.7144 - val_loss: 1.3729 - val_acc: 0.6065\n",
      "Epoch 45/50\n",
      "782/781 [==============================] - 41s 53ms/step - loss: 0.8839 - acc: 0.7198 - val_loss: 1.2388 - val_acc: 0.6313\n",
      "Epoch 46/50\n",
      "782/781 [==============================] - 42s 53ms/step - loss: 0.8731 - acc: 0.7210 - val_loss: 1.2312 - val_acc: 0.6295\n",
      "Epoch 47/50\n",
      "782/781 [==============================] - 40s 52ms/step - loss: 0.8794 - acc: 0.7214 - val_loss: 1.2772 - val_acc: 0.6205\n",
      "Epoch 48/50\n",
      "782/781 [==============================] - 40s 51ms/step - loss: 0.9218 - acc: 0.7079 - val_loss: 1.2472 - val_acc: 0.6234\n",
      "Epoch 49/50\n",
      "782/781 [==============================] - 42s 53ms/step - loss: 0.8957 - acc: 0.7177 - val_loss: 1.2243 - val_acc: 0.6416\n",
      "Epoch 50/50\n",
      "782/781 [==============================] - 41s 52ms/step - loss: 0.8760 - acc: 0.7193 - val_loss: 1.2622 - val_acc: 0.6237\n"
     ]
    },
    {
     "data": {
      "text/plain": [
       "<tensorflow.python.keras.callbacks.History at 0x2ac02605948>"
      ]
     },
     "execution_count": 21,
     "metadata": {},
     "output_type": "execute_result"
    }
   ],
   "source": [
    "\n",
    "# logdir=\"logs/cifar-100-Convolutional-DataAugmentation\"\n",
    "\n",
    "logdir=\"logs/fit-cifar-100-Convolutional/\"\n",
    "\n",
    "tensorboard_callback = tf.keras.callbacks.TensorBoard(log_dir=logdir)\n",
    "\n",
    "\n",
    "# tf.profiler.experimental.start(logdir=logdir)\n",
    "\n",
    "model.fit(datagen_train.flow(x_train, y_train, batch_size=64),\n",
    "          steps_per_epoch=len(x_train) / 64,\n",
    "          validation_data=datagen_test.flow(x_test, y_test, batch_size=64),\n",
    "          epochs=50,\n",
    "          batch_size=64, \n",
    "          callbacks=[tensorboard_callback])\n",
    "\n",
    "# tf.profiler.experimental.stop()"
   ]
  },
  {
   "cell_type": "code",
   "execution_count": 22,
   "metadata": {},
   "outputs": [
    {
     "name": "stdout",
     "output_type": "stream",
     "text": [
      "INFO:tensorflow:Assets written to: ./models-saves/cifar-100-71-62\\assets\n"
     ]
    }
   ],
   "source": [
    "model.save('./models-saves/cifar-100-71-62') "
   ]
  },
  {
   "cell_type": "code",
   "execution_count": 15,
   "metadata": {},
   "outputs": [
    {
     "name": "stdout",
     "output_type": "stream",
     "text": [
      "Model: \"sequential\"\n",
      "_________________________________________________________________\n",
      "Layer (type)                 Output Shape              Param #   \n",
      "=================================================================\n",
      "layer_conv1 (Conv2D)         (None, None, None, 8)     224       \n",
      "_________________________________________________________________\n",
      "batch_normalization (BatchNo (None, None, None, 8)     32        \n",
      "_________________________________________________________________\n",
      "re_lu (ReLU)                 (None, None, None, 8)     0         \n",
      "_________________________________________________________________\n",
      "max_pooling2d (MaxPooling2D) (None, None, None, 8)     0         \n",
      "_________________________________________________________________\n",
      "layer_conv2 (Conv2D)         (None, None, None, 16)    1168      \n",
      "_________________________________________________________________\n",
      "batch_normalization_1 (Batch (None, None, None, 16)    64        \n",
      "_________________________________________________________________\n",
      "re_lu_1 (ReLU)               (None, None, None, 16)    0         \n",
      "_________________________________________________________________\n",
      "max_pooling2d_1 (MaxPooling2 (None, None, None, 16)    0         \n",
      "_________________________________________________________________\n",
      "layer_conv3 (Conv2D)         (None, None, None, 32)    12832     \n",
      "_________________________________________________________________\n",
      "batch_normalization_2 (Batch (None, None, None, 32)    128       \n",
      "_________________________________________________________________\n",
      "re_lu_2 (ReLU)               (None, None, None, 32)    0         \n",
      "_________________________________________________________________\n",
      "max_pooling2d_2 (MaxPooling2 (None, None, None, 32)    0         \n",
      "_________________________________________________________________\n",
      "layer_conv4 (Conv2D)         (None, None, None, 64)    51264     \n",
      "_________________________________________________________________\n",
      "batch_normalization_3 (Batch (None, None, None, 64)    256       \n",
      "_________________________________________________________________\n",
      "re_lu_3 (ReLU)               (None, None, None, 64)    0         \n",
      "_________________________________________________________________\n",
      "max_pooling2d_3 (MaxPooling2 (None, None, None, 64)    0         \n",
      "_________________________________________________________________\n",
      "layer_conv5 (Conv2D)         (None, None, None, 128)   204928    \n",
      "_________________________________________________________________\n",
      "batch_normalization_4 (Batch (None, None, None, 128)   512       \n",
      "_________________________________________________________________\n",
      "re_lu_4 (ReLU)               (None, None, None, 128)   0         \n",
      "_________________________________________________________________\n",
      "max_pooling2d_4 (MaxPooling2 (None, None, None, 128)   0         \n",
      "_________________________________________________________________\n",
      "flatten (Flatten)            (None, None)              0         \n",
      "_________________________________________________________________\n",
      "dense (Dense)                (None, 512)               28901888  \n",
      "_________________________________________________________________\n",
      "dense_1 (Dense)              (None, 256)               131328    \n",
      "_________________________________________________________________\n",
      "dense_2 (Dense)              (None, 128)               32896     \n",
      "_________________________________________________________________\n",
      "dense_3 (Dense)              (None, 100)               12900     \n",
      "=================================================================\n",
      "Total params: 29,350,420\n",
      "Trainable params: 29,349,924\n",
      "Non-trainable params: 496\n",
      "_________________________________________________________________\n"
     ]
    }
   ],
   "source": [
    "tf.summary.File()"
   ]
  }
 ],
 "metadata": {
  "accelerator": "GPU",
  "colab": {
   "collapsed_sections": [],
   "name": "(Solución) Exerc.11 -Convolutional Neural Networks",
   "provenance": [
    {
     "file_id": "1VprgQ-Y2MJX8yNcygv10CWdNgTguJOAT",
     "timestamp": 1543604834649
    }
   ],
   "version": "0.3.2"
  },
  "kernelspec": {
   "display_name": "Python 3",
   "language": "python",
   "name": "python3"
  },
  "language_info": {
   "codemirror_mode": {
    "name": "ipython",
    "version": 3
   },
   "file_extension": ".py",
   "mimetype": "text/x-python",
   "name": "python",
   "nbconvert_exporter": "python",
   "pygments_lexer": "ipython3",
   "version": "3.7.6"
  }
 },
 "nbformat": 4,
 "nbformat_minor": 1
}
