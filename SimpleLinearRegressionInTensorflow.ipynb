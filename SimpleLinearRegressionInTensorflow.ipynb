{
 "cells": [
  {
   "cell_type": "markdown",
   "metadata": {
    "colab_type": "text",
    "id": "LvhzPws446tT"
   },
   "source": [
    "# <center> Introduction to Tensorflow </center>\n"
   ]
  },
  {
   "cell_type": "markdown",
   "metadata": {
    "colab_type": "text",
    "id": "vHcraOUy5MTn"
   },
   "source": [
    "## Simple Operations\n",
    "---\n"
   ]
  },
  {
   "cell_type": "code",
   "execution_count": 1,
   "metadata": {
    "colab": {},
    "colab_type": "code",
    "id": "vJjOdY2PLgsh"
   },
   "outputs": [],
   "source": [
    "\n",
    "import matplotlib.pyplot as plt\n",
    "import sklearn as sk\n",
    "import tensorflow as tf\n",
    "import numpy as np\n",
    "import tensorboard as tb\n",
    "\n",
    "%load_ext tensorboard\n",
    "\n",
    "from tensorboard import *\n",
    "from IPython.display import IFrame\n",
    "from datetime import datetime\n",
    "from sklearn.datasets import load_boston\n",
    "from sklearn.preprocessing import scale\n"
   ]
  },
  {
   "cell_type": "code",
   "execution_count": 2,
   "metadata": {
    "colab": {
     "base_uri": "https://localhost:8080/",
     "height": 243
    },
    "colab_type": "code",
    "executionInfo": {
     "elapsed": 633,
     "status": "ok",
     "timestamp": 1543458530224,
     "user": {
      "displayName": "Carlos Santana",
      "photoUrl": "https://lh4.googleusercontent.com/-CeMGa-V2idY/AAAAAAAAAAI/AAAAAAAAO2Q/22S5ucbTeu8/s64/photo.jpg",
      "userId": "06972008324074016783"
     },
     "user_tz": 0
    },
    "id": "PJRoK8ET-ObC",
    "outputId": "fc1c7b12-50b0-4806-b05b-8a63dae16156"
   },
   "outputs": [
    {
     "name": "stdout",
     "output_type": "stream",
     "text": [
      "tf.Tensor(-42, shape=(), dtype=int32)\n"
     ]
    }
   ],
   "source": [
    "\n",
    "a = tf.constant(5,   name=\"a\")\n",
    "b = tf.constant(-10, name=\"b\")\n",
    "c = tf.constant(8,   name=\"c\")\n",
    "@tf.function\n",
    "def simple_operations():\n",
    "    return (a * b) + c\n",
    "\n",
    "print((a * b) + c)"
   ]
  },
  {
   "cell_type": "code",
   "execution_count": 3,
   "metadata": {
    "colab": {
     "base_uri": "https://localhost:8080/",
     "height": 243
    },
    "colab_type": "code",
    "executionInfo": {
     "elapsed": 633,
     "status": "ok",
     "timestamp": 1543458530224,
     "user": {
      "displayName": "Carlos Santana",
      "photoUrl": "https://lh4.googleusercontent.com/-CeMGa-V2idY/AAAAAAAAAAI/AAAAAAAAO2Q/22S5ucbTeu8/s64/photo.jpg",
      "userId": "06972008324074016783"
     },
     "user_tz": 0
    },
    "id": "PJRoK8ET-ObC",
    "outputId": "fc1c7b12-50b0-4806-b05b-8a63dae16156"
   },
   "outputs": [
    {
     "name": "stdout",
     "output_type": "stream",
     "text": [
      "tf.Tensor(\n",
      "[[2 3 4]\n",
      " [5 6 7]], shape=(2, 3), dtype=int32)\n"
     ]
    }
   ],
   "source": [
    "a = tf.constant(tf.ones((2, 3), dtype=tf.int32), name=\"a\") + tf.constant(\n",
    "    tf.reshape(tf.range(1, 7), (2, 3)), name=\"b\")\n",
    "\n",
    "@tf.function\n",
    "def simple_embeding_oprations():\n",
    "    return a\n",
    "\n",
    "print(a)"
   ]
  },
  {
   "cell_type": "code",
   "execution_count": 4,
   "metadata": {
    "colab": {
     "base_uri": "https://localhost:8080/",
     "height": 243
    },
    "colab_type": "code",
    "executionInfo": {
     "elapsed": 633,
     "status": "ok",
     "timestamp": 1543458530224,
     "user": {
      "displayName": "Carlos Santana",
      "photoUrl": "https://lh4.googleusercontent.com/-CeMGa-V2idY/AAAAAAAAAAI/AAAAAAAAO2Q/22S5ucbTeu8/s64/photo.jpg",
      "userId": "06972008324074016783"
     },
     "user_tz": 0
    },
    "id": "PJRoK8ET-ObC",
    "outputId": "fc1c7b12-50b0-4806-b05b-8a63dae16156"
   },
   "outputs": [
    {
     "name": "stdout",
     "output_type": "stream",
     "text": [
      "tf.Tensor(\n",
      "[[ 2  4  6]\n",
      " [ 6 12 18]\n",
      " [10 20 30]], shape=(3, 3), dtype=int32)\n"
     ]
    }
   ],
   "source": [
    "x = tf.constant([[1], [3], [5]])\n",
    "y = tf.constant([[2, 4, 6]])\n",
    "C = x @ y\n",
    "\n",
    "@tf.function\n",
    "def simple_post_operations():\n",
    "    return C\n",
    "\n",
    "print(C)"
   ]
  },
  {
   "cell_type": "code",
   "execution_count": 32,
   "metadata": {
    "colab": {
     "base_uri": "https://localhost:8080/",
     "height": 70
    },
    "colab_type": "code",
    "executionInfo": {
     "elapsed": 13409,
     "status": "ok",
     "timestamp": 1543423861487,
     "user": {
      "displayName": "Carlos Santana",
      "photoUrl": "https://lh4.googleusercontent.com/-CeMGa-V2idY/AAAAAAAAAAI/AAAAAAAAO2Q/22S5ucbTeu8/s64/photo.jpg",
      "userId": "06972008324074016783"
     },
     "user_tz": 0
    },
    "id": "4TDz3bF0AM6Y",
    "outputId": "8c56a88d-4b98-4a15-8aa5-b91732460ff1"
   },
   "outputs": [],
   "source": [
    "\n",
    "# for tensorflow 2.3 track data workflow in train, test, backtraking\n",
    "\n",
    "# tf.profiler.experimental.start(logdir, tf.profiler.experimental.ProfilerOptions(host_tracer_level=2))\n",
    "# tf.profiler.experimental.stop()\n",
    "# %tensorboard --logdir \"logs\" --host 127.0.0.13 --port 8088\n",
    "# IFrame(\"http://127.0.0.12:8088\",900, 600)\n"
   ]
  },
  {
   "cell_type": "markdown",
   "metadata": {
    "colab_type": "text",
    "id": "Ee2HYNHTfL63"
   },
   "source": [
    "## Linear Regression with Tensorflow.\n",
    "---\n",
    "\n",
    "<br>\n",
    "<center> $ Y = w_0 + x_1 * w_1 $ </center>\n",
    "\n"
   ]
  },
  {
   "cell_type": "code",
   "execution_count": 5,
   "metadata": {
    "colab": {},
    "colab_type": "code",
    "id": "R2B79IxvnP00"
   },
   "outputs": [],
   "source": [
    "\n",
    "boston_dataset = load_boston()\n",
    "X = boston_dataset.data\n",
    "Y = boston_dataset.target\n",
    "n, p = X.shape"
   ]
  },
  {
   "cell_type": "code",
   "execution_count": 6,
   "metadata": {},
   "outputs": [
    {
     "name": "stdout",
     "output_type": "stream",
     "text": [
      ".. _boston_dataset:\n",
      "\n",
      "Boston house prices dataset\n",
      "---------------------------\n",
      "\n",
      "**Data Set Characteristics:**  \n",
      "\n",
      "    :Number of Instances: 506 \n",
      "\n",
      "    :Number of Attributes: 13 numeric/categorical predictive. Median Value (attribute 14) is usually the target.\n",
      "\n",
      "    :Attribute Information (in order):\n",
      "        - CRIM     per capita crime rate by town\n",
      "        - ZN       proportion of residential land zoned for lots over 25,000 sq.ft.\n",
      "        - INDUS    proportion of non-retail business acres per town\n",
      "        - CHAS     Charles River dummy variable (= 1 if tract bounds river; 0 otherwise)\n",
      "        - NOX      nitric oxides concentration (parts per 10 million)\n",
      "        - RM       average number of rooms per dwelling\n",
      "        - AGE      proportion of owner-occupied units built prior to 1940\n",
      "        - DIS      weighted distances to five Boston employment centres\n",
      "        - RAD      index of accessibility to radial highways\n",
      "        - TAX      full-value property-tax rate per $10,000\n",
      "        - PTRATIO  pupil-teacher ratio by town\n",
      "        - B        1000(Bk - 0.63)^2 where Bk is the proportion of blacks by town\n",
      "        - LSTAT    % lower status of the population\n",
      "        - MEDV     Median value of owner-occupied homes in $1000's\n",
      "\n",
      "    :Missing Attribute Values: None\n",
      "\n",
      "    :Creator: Harrison, D. and Rubinfeld, D.L.\n",
      "\n",
      "This is a copy of UCI ML housing dataset.\n",
      "https://archive.ics.uci.edu/ml/machine-learning-databases/housing/\n",
      "\n",
      "\n",
      "This dataset was taken from the StatLib library which is maintained at Carnegie Mellon University.\n",
      "\n",
      "The Boston house-price data of Harrison, D. and Rubinfeld, D.L. 'Hedonic\n",
      "prices and the demand for clean air', J. Environ. Economics & Management,\n",
      "vol.5, 81-102, 1978.   Used in Belsley, Kuh & Welsch, 'Regression diagnostics\n",
      "...', Wiley, 1980.   N.B. Various transformations are used in the table on\n",
      "pages 244-261 of the latter.\n",
      "\n",
      "The Boston house-price data has been used in many machine learning papers that address regression\n",
      "problems.   \n",
      "     \n",
      ".. topic:: References\n",
      "\n",
      "   - Belsley, Kuh & Welsch, 'Regression diagnostics: Identifying Influential Data and Sources of Collinearity', Wiley, 1980. 244-261.\n",
      "   - Quinlan,R. (1993). Combining Instance-Based and Model-Based Learning. In Proceedings on the Tenth International Conference of Machine Learning, 236-243, University of Massachusetts, Amherst. Morgan Kaufmann.\n",
      "\n"
     ]
    }
   ],
   "source": [
    "\n",
    "print(boston_dataset.DESCR)"
   ]
  },
  {
   "cell_type": "code",
   "execution_count": 14,
   "metadata": {
    "colab": {
     "base_uri": "https://localhost:8080/",
     "height": 269
    },
    "colab_type": "code",
    "executionInfo": {
     "elapsed": 1062,
     "status": "ok",
     "timestamp": 1558468054743,
     "user": {
      "displayName": "Carlos Santana",
      "photoUrl": "https://lh4.googleusercontent.com/-CeMGa-V2idY/AAAAAAAAAAI/AAAAAAAAO2Q/22S5ucbTeu8/s64/photo.jpg",
      "userId": "06972008324074016783"
     },
     "user_tz": -60
    },
    "id": "BNsq3aLKpYE_",
    "outputId": "551c4af2-e22c-411a-8281-c8f33db39ce3"
   },
   "outputs": [
    {
     "data": {
      "image/png": "[encoded data removed]",
      "text/plain": [
       "<Figure size 432x288 with 1 Axes>"
      ]
     },
     "metadata": {
      "needs_background": "light"
     },
     "output_type": "display_data"
    }
   ],
   "source": [
    "_X = (X[:, 5])\n",
    "_Y = (Y)\n",
    "\n",
    "plt.title('Prize by room')\n",
    "plt.ylabel('Prize house -> 1 == 1000$ ')\n",
    "plt.xlabel('Average rooms')\n",
    "\n",
    "plt.scatter(_X, _Y, alpha=0.5)\n",
    "plt.show()"
   ]
  },
  {
   "cell_type": "code",
   "execution_count": 8,
   "metadata": {},
   "outputs": [],
   "source": [
    "class Model(object):\n",
    "    def __init__(self):\n",
    "        self._W0 = tf.Variable(tf.random.normal([1]))\n",
    "        self._W1 = tf.Variable(tf.random.normal([1]))\n",
    "\n",
    "    def __call__(self, _X):\n",
    "        return _X * self._W1 + self._W0\n",
    "    \n",
    "def loss(target_y, predicted_y):\n",
    "    return  tf.reduce_mean(tf.square(target_y - predicted_y))\n",
    "\n",
    "def train(model, inputs, outputs, learning_rate):\n",
    "    with tf.GradientTape() as t:\n",
    "        current_loss = loss(outputs, model(inputs))\n",
    "    dW, db = t.gradient(current_loss, [model._W1, model._W0])\n",
    "        \n",
    "    model._W1.assign_sub(learning_rate * dW)\n",
    "    model._W0.assign_sub(learning_rate * db)\n",
    "    "
   ]
  },
  {
   "cell_type": "code",
   "execution_count": 15,
   "metadata": {},
   "outputs": [],
   "source": [
    "    \n",
    "model = Model()\n",
    "epochs = range(100)\n",
    "\n",
    "# very very very important\n",
    "_X = scale(_X)\n",
    "_Y = scale(_Y)\n",
    "\n",
    "# track metrics directly in tensorflow\n",
    "\n",
    "logdir = \"logs/scalars/\" + datetime.now().strftime(\"%Y%m%d-%H%M%S\")\n",
    "file_writer = tf.summary.create_file_writer(logdir + \"/metrics\")\n",
    "file_writer.set_as_default()\n",
    "\n",
    "# train\n",
    "for epoch in epochs:\n",
    "    train(model, _X, _Y, learning_rate=0.1)\n",
    "    \n",
    "    # metrics\n",
    "    y_predicted = model(_Y)\n",
    "    accuracy = 100 - (tf.math.reduce_mean((_Y - y_predicted ) / _Y) * 100)\n",
    "    \n",
    "    tf.summary.scalar('Accuracy', data=accuracy, step=epoch)\n",
    "    tf.summary.scalar('Loss', data=loss(_Y, y_predicted), step=epoch)"
   ]
  },
  {
   "cell_type": "code",
   "execution_count": 17,
   "metadata": {
    "colab": {
     "base_uri": "https://localhost:8080/",
     "height": 35
    },
    "colab_type": "code",
    "executionInfo": {
     "elapsed": 719,
     "status": "ok",
     "timestamp": 1558468066075,
     "user": {
      "displayName": "Carlos Santana",
      "photoUrl": "https://lh4.googleusercontent.com/-CeMGa-V2idY/AAAAAAAAAAI/AAAAAAAAO2Q/22S5ucbTeu8/s64/photo.jpg",
      "userId": "06972008324074016783"
     },
     "user_tz": -60
    },
    "id": "cMKAyj9D5DTu",
    "outputId": "cd3bf2d3-8bf2-47e3-ece1-e945fd3492e1"
   },
   "outputs": [
    {
     "data": {
      "text/plain": [
       "ERROR: Timed out waiting for TensorBoard to start. It may still be running as pid 7200."
      ]
     },
     "metadata": {},
     "output_type": "display_data"
    }
   ],
   "source": [
    "# view with tensorboard\n",
    "# %tensorboard --logdir \"logs/scalars\" --host 127.0.0.13 --port 8088\n",
    "# works, but for devs of tensorboard, not is important inform correctly"
   ]
  },
  {
   "cell_type": "code",
   "execution_count": 19,
   "metadata": {
    "colab": {
     "base_uri": "https://localhost:8080/",
     "height": 347
    },
    "colab_type": "code",
    "executionInfo": {
     "elapsed": 887,
     "status": "ok",
     "timestamp": 1543403726473,
     "user": {
      "displayName": "Carlos Santana",
      "photoUrl": "https://lh4.googleusercontent.com/-CeMGa-V2idY/AAAAAAAAAAI/AAAAAAAAO2Q/22S5ucbTeu8/s64/photo.jpg",
      "userId": "06972008324074016783"
     },
     "user_tz": 0
    },
    "id": "rJFRm7RwfxOu",
    "outputId": "b87c93c1-5e22-4037-afef-e707a84759e3"
   },
   "outputs": [
    {
     "data": {
      "image/png": "[encoded data removed]",
      "text/plain": [
       "<Figure size 432x288 with 1 Axes>"
      ]
     },
     "metadata": {
      "needs_background": "light"
     },
     "output_type": "display_data"
    }
   ],
   "source": [
    "plt.title('model generalization')\n",
    "plt.scatter(_X, _Y, alpha=0.5)\n",
    "plt.plot(_X, model._W0 + model._W1 * _X, c=\"red\")\n",
    "plt.legend(['Model abstraction', 'Examples'])\n",
    "plt.show()"
   ]
  }
 ],
 "metadata": {
  "colab": {
   "name": "(Solución) Exerc.8 - Introducción a Tensorflow.ipynb",
   "provenance": [],
   "version": "0.3.2"
  },
  "kernelspec": {
   "display_name": "Python 3",
   "language": "python",
   "name": "python3"
  },
  "language_info": {
   "codemirror_mode": {
    "name": "ipython",
    "version": 3
   },
   "file_extension": ".py",
   "mimetype": "text/x-python",
   "name": "python",
   "nbconvert_exporter": "python",
   "pygments_lexer": "ipython3",
   "version": "3.7.6"
  }
 },
 "nbformat": 4,
 "nbformat_minor": 1
}
