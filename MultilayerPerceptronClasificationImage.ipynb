{
 "cells": [
  {
   "cell_type": "markdown",
   "metadata": {
    "colab_type": "text",
    "id": "-WYztFuRbfet"
   },
   "source": [
    "# <center> Neural Network with Tensorflow </center>\n",
    "\n"
   ]
  },
  {
   "cell_type": "code",
   "execution_count": 9,
   "metadata": {
    "colab": {
     "base_uri": "https://localhost:8080/",
     "height": 52
    },
    "colab_type": "code",
    "executionInfo": {
     "elapsed": 4206,
     "status": "ok",
     "timestamp": 1558991448838,
     "user": {
      "displayName": "Carlos Santana",
      "photoUrl": "https://lh4.googleusercontent.com/-CeMGa-V2idY/AAAAAAAAAAI/AAAAAAAAO2Q/22S5ucbTeu8/s64/photo.jpg",
      "userId": "06972008324074016783"
     },
     "user_tz": -60
    },
    "id": "-kAbIIRDbq_J",
    "outputId": "39c5d891-064e-41cf-88d9-90f284a9ca07"
   },
   "outputs": [
    {
     "name": "stdout",
     "output_type": "stream",
     "text": [
      "The tensorboard extension is already loaded. To reload it, use:\n",
      "  %reload_ext tensorboard\n"
     ]
    }
   ],
   "source": [
    "import numpy             as np\n",
    "import sklearn           as sk\n",
    "import pandas            as pd\n",
    "import matplotlib.pyplot as plt\n",
    "import tensorflow        as tf\n",
    "import tensorboard       as tb\n",
    "\n",
    "%load_ext tensorboard\n",
    "\n",
    "from tensorflow.keras.layers     import Dense\n",
    "from tensorflow.keras.utils      import to_categorical\n",
    "from tensorflow.keras.optimizers import SGD\n",
    "from sklearn.model_selection     import train_test_split"
   ]
  },
  {
   "cell_type": "code",
   "execution_count": 2,
   "metadata": {
    "colab": {
     "base_uri": "https://localhost:8080/",
     "height": 52
    },
    "colab_type": "code",
    "executionInfo": {
     "elapsed": 4206,
     "status": "ok",
     "timestamp": 1558991448838,
     "user": {
      "displayName": "Carlos Santana",
      "photoUrl": "https://lh4.googleusercontent.com/-CeMGa-V2idY/AAAAAAAAAAI/AAAAAAAAO2Q/22S5ucbTeu8/s64/photo.jpg",
      "userId": "06972008324074016783"
     },
     "user_tz": -60
    },
    "id": "-kAbIIRDbq_J",
    "outputId": "39c5d891-064e-41cf-88d9-90f284a9ca07"
   },
   "outputs": [],
   "source": [
    "\n",
    "mnist = pd.read_csv(\"./mnist_train_small.csv\", header=None, sep=';').values\n",
    "\n",
    "X, Y = mnist[:, 1:], mnist[:, 0:1]"
   ]
  },
  {
   "cell_type": "code",
   "execution_count": 3,
   "metadata": {
    "colab": {
     "base_uri": "https://localhost:8080/",
     "height": 738
    },
    "colab_type": "code",
    "executionInfo": {
     "elapsed": 47683,
     "status": "ok",
     "timestamp": 1558991897432,
     "user": {
      "displayName": "Carlos Santana",
      "photoUrl": "https://lh4.googleusercontent.com/-CeMGa-V2idY/AAAAAAAAAAI/AAAAAAAAO2Q/22S5ucbTeu8/s64/photo.jpg",
      "userId": "06972008324074016783"
     },
     "user_tz": -60
    },
    "id": "EMpTBcjZwRWm",
    "outputId": "5c7ac6de-967a-4b10-ab9f-a68a223696c3"
   },
   "outputs": [],
   "source": [
    "Xt = X / 255\n",
    "Yt = to_categorical(Y, 10)\n",
    "\n",
    "X_train, X_test, Y_train, Y_test = train_test_split(Xt, Yt, train_size=0.7)"
   ]
  },
  {
   "cell_type": "code",
   "execution_count": 4,
   "metadata": {
    "colab": {
     "base_uri": "https://localhost:8080/",
     "height": 738
    },
    "colab_type": "code",
    "executionInfo": {
     "elapsed": 47683,
     "status": "ok",
     "timestamp": 1558991897432,
     "user": {
      "displayName": "Carlos Santana",
      "photoUrl": "https://lh4.googleusercontent.com/-CeMGa-V2idY/AAAAAAAAAAI/AAAAAAAAO2Q/22S5ucbTeu8/s64/photo.jpg",
      "userId": "06972008324074016783"
     },
     "user_tz": -60
    },
    "id": "EMpTBcjZwRWm",
    "outputId": "5c7ac6de-967a-4b10-ab9f-a68a223696c3"
   },
   "outputs": [],
   "source": [
    "model = tf.keras.Sequential()\n",
    "\n",
    "model.add(Dense(128, activation='relu'))\n",
    "model.add(Dense(64, activation='relu'))\n",
    "model.add(Dense(32, activation='relu'))\n",
    "model.add(Dense(10, activation='softmax'))"
   ]
  },
  {
   "cell_type": "code",
   "execution_count": 5,
   "metadata": {
    "colab": {
     "base_uri": "https://localhost:8080/",
     "height": 738
    },
    "colab_type": "code",
    "executionInfo": {
     "elapsed": 47683,
     "status": "ok",
     "timestamp": 1558991897432,
     "user": {
      "displayName": "Carlos Santana",
      "photoUrl": "https://lh4.googleusercontent.com/-CeMGa-V2idY/AAAAAAAAAAI/AAAAAAAAO2Q/22S5ucbTeu8/s64/photo.jpg",
      "userId": "06972008324074016783"
     },
     "user_tz": -60
    },
    "id": "EMpTBcjZwRWm",
    "outputId": "5c7ac6de-967a-4b10-ab9f-a68a223696c3"
   },
   "outputs": [],
   "source": [
    "model.compile(optimizer=SGD(lr=0.1),\n",
    "              loss='categorical_crossentropy',\n",
    "              metrics=['accuracy'])      "
   ]
  },
  {
   "cell_type": "code",
   "execution_count": 6,
   "metadata": {
    "colab": {
     "base_uri": "https://localhost:8080/",
     "height": 738
    },
    "colab_type": "code",
    "executionInfo": {
     "elapsed": 47683,
     "status": "ok",
     "timestamp": 1558991897432,
     "user": {
      "displayName": "Carlos Santana",
      "photoUrl": "https://lh4.googleusercontent.com/-CeMGa-V2idY/AAAAAAAAAAI/AAAAAAAAO2Q/22S5ucbTeu8/s64/photo.jpg",
      "userId": "06972008324074016783"
     },
     "user_tz": -60
    },
    "id": "EMpTBcjZwRWm",
    "outputId": "5c7ac6de-967a-4b10-ab9f-a68a223696c3"
   },
   "outputs": [
    {
     "name": "stdout",
     "output_type": "stream",
     "text": [
      "Epoch 1/20\n",
      "219/219 [==============================] - 1s 5ms/step - loss: 0.7283 - accuracy: 0.7830 - val_loss: 0.3292 - val_accuracy: 0.9043\n",
      "Epoch 2/20\n",
      "219/219 [==============================] - 1s 4ms/step - loss: 0.2863 - accuracy: 0.9129 - val_loss: 0.2982 - val_accuracy: 0.9132\n",
      "Epoch 3/20\n",
      "219/219 [==============================] - 1s 4ms/step - loss: 0.2082 - accuracy: 0.9351 - val_loss: 0.2239 - val_accuracy: 0.9355\n",
      "Epoch 4/20\n",
      "219/219 [==============================] - 1s 4ms/step - loss: 0.1625 - accuracy: 0.9514 - val_loss: 0.1946 - val_accuracy: 0.9412\n",
      "Epoch 5/20\n",
      "219/219 [==============================] - 1s 6ms/step - loss: 0.1303 - accuracy: 0.9630 - val_loss: 0.1852 - val_accuracy: 0.9503\n",
      "Epoch 6/20\n",
      "219/219 [==============================] - 1s 4ms/step - loss: 0.1079 - accuracy: 0.9683 - val_loss: 0.1638 - val_accuracy: 0.9520\n",
      "Epoch 7/20\n",
      "219/219 [==============================] - 1s 6ms/step - loss: 0.0874 - accuracy: 0.9744 - val_loss: 0.1595 - val_accuracy: 0.9543\n",
      "Epoch 8/20\n",
      "219/219 [==============================] - 1s 4ms/step - loss: 0.0689 - accuracy: 0.9804 - val_loss: 0.2013 - val_accuracy: 0.9420\n",
      "Epoch 9/20\n",
      "219/219 [==============================] - 1s 6ms/step - loss: 0.0576 - accuracy: 0.9821 - val_loss: 0.1609 - val_accuracy: 0.9562\n",
      "Epoch 10/20\n",
      "219/219 [==============================] - 1s 4ms/step - loss: 0.0479 - accuracy: 0.9856 - val_loss: 0.1560 - val_accuracy: 0.9573\n",
      "Epoch 11/20\n",
      "219/219 [==============================] - 2s 8ms/step - loss: 0.0356 - accuracy: 0.9901 - val_loss: 0.1647 - val_accuracy: 0.9563\n",
      "Epoch 12/20\n",
      "219/219 [==============================] - 1s 4ms/step - loss: 0.0294 - accuracy: 0.9929 - val_loss: 0.1586 - val_accuracy: 0.9590\n",
      "Epoch 13/20\n",
      "219/219 [==============================] - 2s 11ms/step - loss: 0.0222 - accuracy: 0.9949 - val_loss: 0.1563 - val_accuracy: 0.9602\n",
      "Epoch 14/20\n",
      "219/219 [==============================] - 1s 4ms/step - loss: 0.0171 - accuracy: 0.9962 - val_loss: 0.1552 - val_accuracy: 0.9610\n",
      "Epoch 15/20\n",
      "219/219 [==============================] - 2s 11ms/step - loss: 0.0116 - accuracy: 0.9984 - val_loss: 0.1586 - val_accuracy: 0.9627\n",
      "Epoch 16/20\n",
      "219/219 [==============================] - 1s 4ms/step - loss: 0.0089 - accuracy: 0.9992 - val_loss: 0.1617 - val_accuracy: 0.9607\n",
      "Epoch 17/20\n",
      "219/219 [==============================] - 3s 13ms/step - loss: 0.0071 - accuracy: 0.9996 - val_loss: 0.1615 - val_accuracy: 0.9633\n",
      "Epoch 18/20\n",
      "219/219 [==============================] - 1s 4ms/step - loss: 0.0053 - accuracy: 0.9997 - val_loss: 0.1613 - val_accuracy: 0.9642\n",
      "Epoch 19/20\n",
      "219/219 [==============================] - 3s 16ms/step - loss: 0.0044 - accuracy: 0.9998 - val_loss: 0.1643 - val_accuracy: 0.9645\n",
      "Epoch 20/20\n",
      "219/219 [==============================] - 1s 4ms/step - loss: 0.0037 - accuracy: 0.9999 - val_loss: 0.1633 - val_accuracy: 0.9645\n"
     ]
    }
   ],
   "source": [
    "logdir = \"logs/MNIST-DENSE\"\n",
    "\n",
    "\n",
    "tf.profiler.experimental.start(logdir, tf.profiler.experimental.ProfilerOptions(host_tracer_level=2))\n",
    "\n",
    "\n",
    "arr = model.fit(X_train, Y_train,\n",
    "              batch_size=64,\n",
    "              validation_data=(X_test, Y_test), epochs=20)\n",
    "\n",
    "tf.profiler.experimental.stop()"
   ]
  },
  {
   "cell_type": "code",
   "execution_count": 7,
   "metadata": {
    "colab": {
     "base_uri": "https://localhost:8080/",
     "height": 545
    },
    "colab_type": "code",
    "executionInfo": {
     "elapsed": 2064,
     "status": "ok",
     "timestamp": 1558991948505,
     "user": {
      "displayName": "Carlos Santana",
      "photoUrl": "https://lh4.googleusercontent.com/-CeMGa-V2idY/AAAAAAAAAAI/AAAAAAAAO2Q/22S5ucbTeu8/s64/photo.jpg",
      "userId": "06972008324074016783"
     },
     "user_tz": -60
    },
    "id": "CEDThCh6wRAH",
    "outputId": "59406f20-a8dd-4cde-9cc7-7d82605158a5"
   },
   "outputs": [
    {
     "data": {
      "image/png": "[encoded data removed]",
      "text/plain": [
       "<Figure size 432x288 with 1 Axes>"
      ]
     },
     "metadata": {
      "needs_background": "light"
     },
     "output_type": "display_data"
    },
    {
     "data": {
      "image/png": "[encoded data removed]",
      "text/plain": [
       "<Figure size 432x288 with 1 Axes>"
      ]
     },
     "metadata": {
      "needs_background": "light"
     },
     "output_type": "display_data"
    }
   ],
   "source": [
    "plt.title(\"Train Loss VS Valid. Loss\")\n",
    "plt.plot(arr.history['loss'],     c=\"green\")\n",
    "plt.plot(arr.history['val_loss'], c=\"blue\" )\n",
    "plt.legend(['Train Loss', 'Valid. Loss'])\n",
    "plt.show()\n",
    "\n",
    "plt.title(\"Train Acc VS Valid. Acc\")\n",
    "plt.plot(arr.history['accuracy'], c=\"green\")\n",
    "plt.plot(arr.history['val_accuracy'], c=\"blue\" )\n",
    "plt.legend(['Train Acc.', 'Valid Acc.'])\n",
    "plt.show()"
   ]
  },
  {
   "cell_type": "code",
   "execution_count": 2,
   "metadata": {},
   "outputs": [
    {
     "data": {
      "text/plain": [
       "ERROR: Timed out waiting for TensorBoard to start. It may still be running as pid 3140."
      ]
     },
     "metadata": {},
     "output_type": "display_data"
    }
   ],
   "source": [
    "%tensorboard --logdir \"logs/MNIST-DENSE\" --host 127.0.0.13 --port 8080\n"
   ]
  },
  {
   "cell_type": "code",
   "execution_count": 10,
   "metadata": {
    "colab": {},
    "colab_type": "code",
    "id": "SioRSea3wQjp"
   },
   "outputs": [],
   "source": [
    "\n",
    "idxs = np.random.choice(X_test.shape[0], 100, replace=False)\n",
    "lbls = np.argmax(model.predict(X_test[idxs, :]), axis=1)\n",
    "\n",
    "wrong = idxs[np.argmax(Y_test[idxs], axis=1) != lbls]"
   ]
  },
  {
   "cell_type": "code",
   "execution_count": 11,
   "metadata": {
    "colab": {
     "base_uri": "https://localhost:8080/",
     "height": 1089
    },
    "colab_type": "code",
    "executionInfo": {
     "elapsed": 1922,
     "status": "ok",
     "timestamp": 1558992162682,
     "user": {
      "displayName": "Carlos Santana",
      "photoUrl": "https://lh4.googleusercontent.com/-CeMGa-V2idY/AAAAAAAAAAI/AAAAAAAAO2Q/22S5ucbTeu8/s64/photo.jpg",
      "userId": "06972008324074016783"
     },
     "user_tz": -60
    },
    "id": "x-f5A8lLwQTU",
    "outputId": "067f8472-f6f6-4b97-f624-fb51a7bc1987"
   },
   "outputs": [
    {
     "data": {
      "image/png": "[encoded data removed]",
      "text/plain": [
       "<Figure size 288x288 with 1 Axes>"
      ]
     },
     "metadata": {
      "needs_background": "light"
     },
     "output_type": "display_data"
    },
    {
     "data": {
      "image/png": "[encoded data removed]",
      "text/plain": [
       "<Figure size 288x288 with 1 Axes>"
      ]
     },
     "metadata": {
      "needs_background": "light"
     },
     "output_type": "display_data"
    },
    {
     "data": {
      "image/png": "[encoded data removed]",
      "text/plain": [
       "<Figure size 288x288 with 1 Axes>"
      ]
     },
     "metadata": {
      "needs_background": "light"
     },
     "output_type": "display_data"
    }
   ],
   "source": [
    "for i in wrong: \n",
    "    plt.matshow(X_test[i,:].reshape(28, 28))\n",
    "    plt.title(\"Predicted:\" + str(np.argmax(model.predict(X_test[i:i+1,:]))) + \n",
    "                \" - Real:\" + str(np.argmax(Y_test[i:i+1,:])))\n",
    "    \n",
    "    plt.show()"
   ]
  }
 ],
 "metadata": {
  "accelerator": "GPU",
  "colab": {
   "name": "(Solución) Exerc.9 - Multilayer Perceptron",
   "provenance": [],
   "version": "0.3.2"
  },
  "kernelspec": {
   "display_name": "Python 3",
   "language": "python",
   "name": "python3"
  },
  "language_info": {
   "codemirror_mode": {
    "name": "ipython",
    "version": 3
   },
   "file_extension": ".py",
   "mimetype": "text/x-python",
   "name": "python",
   "nbconvert_exporter": "python",
   "pygments_lexer": "ipython3",
   "version": "3.7.6"
  }
 },
 "nbformat": 4,
 "nbformat_minor": 1
}
