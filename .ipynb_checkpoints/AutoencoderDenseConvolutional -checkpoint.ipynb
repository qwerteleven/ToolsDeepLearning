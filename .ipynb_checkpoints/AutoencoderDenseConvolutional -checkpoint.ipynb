{
 "cells": [
  {
   "cell_type": "markdown",
   "metadata": {
    "colab_type": "text",
    "id": "m_XHTOYUex1g"
   },
   "source": [
    "# <center> Autoencoder </center>\n",
    "\n"
   ]
  },
  {
   "cell_type": "code",
   "execution_count": 3,
   "metadata": {
    "colab": {
     "base_uri": "https://localhost:8080/",
     "height": 55
    },
    "colab_type": "code",
    "executionInfo": {
     "elapsed": 3972,
     "status": "ok",
     "timestamp": 1558985164628,
     "user": {
      "displayName": "qwerteleven kuihuih",
      "photoUrl": "",
      "userId": "17420874050594162777"
     },
     "user_tz": -60
    },
    "id": "ICtt4INLVwZF",
    "outputId": "5f679f9b-077c-4d68-b1f0-7bd756949a8a"
   },
   "outputs": [],
   "source": [
    "import numpy             as np\n",
    "import pandas            as pd\n",
    "import matplotlib.pyplot as plt\n",
    "import tensorflow        as tf\n",
    "import tensorboard        as tb\n",
    "\n",
    "%load_ext tensorboard\n",
    "\n",
    "from tensorflow.keras.models     import Sequential, Model\n",
    "from tensorflow.keras.layers     import Dense, Input, Conv2D, MaxPool2D, Flatten\n",
    "from tensorflow.keras.layers     import Conv2DTranspose, UpSampling2D, MaxPooling2D, Reshape\n",
    "from tensorflow.keras.utils      import to_categorical\n",
    "from tensorflow.keras.optimizers import SGD\n",
    "from sklearn.model_selection     import train_test_split"
   ]
  },
  {
   "cell_type": "code",
   "execution_count": 6,
   "metadata": {
    "colab": {
     "base_uri": "https://localhost:8080/",
     "height": 55
    },
    "colab_type": "code",
    "executionInfo": {
     "elapsed": 3972,
     "status": "ok",
     "timestamp": 1558985164628,
     "user": {
      "displayName": "qwerteleven kuihuih",
      "photoUrl": "",
      "userId": "17420874050594162777"
     },
     "user_tz": -60
    },
    "id": "ICtt4INLVwZF",
    "outputId": "5f679f9b-077c-4d68-b1f0-7bd756949a8a"
   },
   "outputs": [],
   "source": [
    "\n",
    "mnist = pd.read_csv(\"./mnist_train_small.csv\", header=None, sep=';').values\n",
    "\n",
    "X, Y = mnist[:, 1:], mnist[:, 0:1]\n",
    "\n",
    "n, p = X.shape\n",
    "\n",
    "size = int(np.sqrt(p))\n",
    "\n",
    "Xt = X / 255.0\n",
    "Yt = to_categorical(Y, 10)\n",
    "\n",
    "X_train, X_test, Y_train, Y_test = train_test_split(Xt, Yt, train_size=0.7)"
   ]
  },
  {
   "cell_type": "code",
   "execution_count": 7,
   "metadata": {
    "colab": {},
    "colab_type": "code",
    "id": "NalP2UQKVqAY"
   },
   "outputs": [],
   "source": [
    "z = 2 \n",
    "\n",
    "inpE = Input(shape=(size, size, 1))  # BSx28x28x1\n",
    "\n",
    "x = Flatten()(inpE)                     # BSx784\n",
    "x = Dense(256, activation='relu')(x)    # BSx256\n",
    "x = Dense(128, activation='relu')(x)    # BSx128\n",
    "x = Dense(64,  activation='relu')(x)    # BSx64"
   ]
  },
  {
   "cell_type": "code",
   "execution_count": 8,
   "metadata": {
    "colab": {},
    "colab_type": "code",
    "id": "NalP2UQKVqAY"
   },
   "outputs": [],
   "source": [
    "\n",
    "c = Dense(z)(x)                         # BSx2 "
   ]
  },
  {
   "cell_type": "code",
   "execution_count": 9,
   "metadata": {
    "colab": {},
    "colab_type": "code",
    "id": "NalP2UQKVqAY"
   },
   "outputs": [],
   "source": [
    "inpD = Input(shape=c.shape[1:])         # BSx2\n",
    "\n",
    "x = Dense(64,  activation='relu')(inpD) # BSx64\n",
    "x = Dense(128, activation='relu')(x)    # BSx128\n",
    "x = Dense(256, activation='relu')(x)    # BSx256\n",
    "x = Dense(784, activation='sigmoid')(x) # BSx784\n",
    "\n",
    "x = Reshape(inpE.shape[1:])(x)          # BSx28x28x1"
   ]
  },
  {
   "cell_type": "code",
   "execution_count": 10,
   "metadata": {
    "colab": {},
    "colab_type": "code",
    "id": "NalP2UQKVqAY"
   },
   "outputs": [],
   "source": [
    "\n",
    "encoder = Model(inputs=inpE, outputs=c)\n",
    "decoder = Model(inputs=inpD, outputs=x)"
   ]
  },
  {
   "cell_type": "code",
   "execution_count": 11,
   "metadata": {
    "colab": {},
    "colab_type": "code",
    "id": "NalP2UQKVqAY"
   },
   "outputs": [],
   "source": [
    "inpA = Input(shape=(size, size, 1))\n",
    "\n",
    "autoencoder = Model(inputs=inpA, outputs=decoder(encoder(inpA)))"
   ]
  },
  {
   "cell_type": "code",
   "execution_count": 12,
   "metadata": {
    "colab": {},
    "colab_type": "code",
    "id": "NalP2UQKVqAY"
   },
   "outputs": [],
   "source": [
    "autoencoder.compile(optimizer=SGD(5), loss='mse',  metrics=['accuracy'])"
   ]
  },
  {
   "cell_type": "code",
   "execution_count": 17,
   "metadata": {
    "colab": {},
    "colab_type": "code",
    "id": "NalP2UQKVqAY",
    "scrolled": true
   },
   "outputs": [
    {
     "name": "stdout",
     "output_type": "stream",
     "text": [
      "Epoch 1/100\n",
      "  1/110 [..............................] - ETA: 0s - loss: 0.0417 - accuracy: 0.7889WARNING:tensorflow:Trace already enabled\n",
      "WARNING:tensorflow:From D:\\anaconda\\lib\\site-packages\\tensorflow\\python\\ops\\summary_ops_v2.py:1277: stop (from tensorflow.python.eager.profiler) is deprecated and will be removed after 2020-07-01.\n",
      "Instructions for updating:\n",
      "use `tf.profiler.experimental.stop` instead.\n",
      "  2/110 [..............................] - ETA: 12s - loss: 0.0412 - accuracy: 0.7927WARNING:tensorflow:Callbacks method `on_train_batch_end` is slow compared to the batch time (batch time: 0.0088s vs `on_train_batch_end` time: 0.2240s). Check your callbacks.\n",
      "110/110 [==============================] - 1s 10ms/step - loss: 0.0403 - accuracy: 0.7990 - val_loss: 0.0429 - val_accuracy: 0.7942\n",
      "Epoch 2/100\n",
      "110/110 [==============================] - 1s 7ms/step - loss: 0.0402 - accuracy: 0.7990 - val_loss: 0.0425 - val_accuracy: 0.7989\n",
      "Epoch 3/100\n",
      "110/110 [==============================] - 1s 6ms/step - loss: 0.0402 - accuracy: 0.7990 - val_loss: 0.0421 - val_accuracy: 0.7986\n",
      "Epoch 4/100\n",
      "110/110 [==============================] - 1s 7ms/step - loss: 0.0401 - accuracy: 0.7991 - val_loss: 0.0428 - val_accuracy: 0.7988\n",
      "Epoch 5/100\n",
      "110/110 [==============================] - 1s 7ms/step - loss: 0.0401 - accuracy: 0.7990 - val_loss: 0.0421 - val_accuracy: 0.7992\n",
      "Epoch 6/100\n",
      "110/110 [==============================] - 1s 7ms/step - loss: 0.0399 - accuracy: 0.7992 - val_loss: 0.0435 - val_accuracy: 0.7988\n",
      "Epoch 7/100\n",
      "110/110 [==============================] - 1s 7ms/step - loss: 0.0399 - accuracy: 0.7992 - val_loss: 0.0420 - val_accuracy: 0.7991\n",
      "Epoch 8/100\n",
      "110/110 [==============================] - 1s 7ms/step - loss: 0.0399 - accuracy: 0.7991 - val_loss: 0.0419 - val_accuracy: 0.7982\n",
      "Epoch 9/100\n",
      "110/110 [==============================] - 1s 7ms/step - loss: 0.0397 - accuracy: 0.7993 - val_loss: 0.0432 - val_accuracy: 0.7981\n",
      "Epoch 10/100\n",
      "110/110 [==============================] - 1s 7ms/step - loss: 0.0398 - accuracy: 0.7992 - val_loss: 0.0424 - val_accuracy: 0.7973\n",
      "Epoch 11/100\n",
      "110/110 [==============================] - 1s 7ms/step - loss: 0.0397 - accuracy: 0.7992 - val_loss: 0.0425 - val_accuracy: 0.7966\n",
      "Epoch 12/100\n",
      "110/110 [==============================] - 1s 7ms/step - loss: 0.0395 - accuracy: 0.7993 - val_loss: 0.0426 - val_accuracy: 0.7978\n",
      "Epoch 13/100\n",
      "110/110 [==============================] - 1s 7ms/step - loss: 0.0394 - accuracy: 0.7994 - val_loss: 0.0421 - val_accuracy: 0.7993\n",
      "Epoch 14/100\n",
      "110/110 [==============================] - 1s 7ms/step - loss: 0.0396 - accuracy: 0.7993 - val_loss: 0.0419 - val_accuracy: 0.7966\n",
      "Epoch 15/100\n",
      "110/110 [==============================] - 1s 7ms/step - loss: 0.0395 - accuracy: 0.7993 - val_loss: 0.0420 - val_accuracy: 0.7981\n",
      "Epoch 16/100\n",
      "110/110 [==============================] - 1s 7ms/step - loss: 0.0394 - accuracy: 0.7994 - val_loss: 0.0418 - val_accuracy: 0.7976\n",
      "Epoch 17/100\n",
      "110/110 [==============================] - 1s 7ms/step - loss: 0.0391 - accuracy: 0.7995 - val_loss: 0.0420 - val_accuracy: 0.7975\n",
      "Epoch 18/100\n",
      "110/110 [==============================] - 1s 7ms/step - loss: 0.0393 - accuracy: 0.7994 - val_loss: 0.0428 - val_accuracy: 0.7959\n",
      "Epoch 19/100\n",
      "110/110 [==============================] - 1s 7ms/step - loss: 0.0392 - accuracy: 0.7994 - val_loss: 0.0413 - val_accuracy: 0.7980\n",
      "Epoch 20/100\n",
      "110/110 [==============================] - 1s 7ms/step - loss: 0.0391 - accuracy: 0.7995 - val_loss: 0.0419 - val_accuracy: 0.7987\n",
      "Epoch 21/100\n",
      "110/110 [==============================] - 1s 7ms/step - loss: 0.0392 - accuracy: 0.7994 - val_loss: 0.0418 - val_accuracy: 0.7972\n",
      "Epoch 22/100\n",
      "110/110 [==============================] - 1s 7ms/step - loss: 0.0390 - accuracy: 0.7995 - val_loss: 0.0418 - val_accuracy: 0.7963\n",
      "Epoch 23/100\n",
      "110/110 [==============================] - 1s 7ms/step - loss: 0.0388 - accuracy: 0.7996 - val_loss: 0.0423 - val_accuracy: 0.7964\n",
      "Epoch 24/100\n",
      "110/110 [==============================] - 1s 7ms/step - loss: 0.0391 - accuracy: 0.7995 - val_loss: 0.0416 - val_accuracy: 0.7977\n",
      "Epoch 25/100\n",
      "110/110 [==============================] - 1s 7ms/step - loss: 0.0392 - accuracy: 0.7994 - val_loss: 0.0417 - val_accuracy: 0.7965\n",
      "Epoch 26/100\n",
      "110/110 [==============================] - 1s 7ms/step - loss: 0.0389 - accuracy: 0.7996 - val_loss: 0.0417 - val_accuracy: 0.7989\n",
      "Epoch 27/100\n",
      "110/110 [==============================] - 1s 7ms/step - loss: 0.0388 - accuracy: 0.7996 - val_loss: 0.0417 - val_accuracy: 0.7954\n",
      "Epoch 28/100\n",
      "110/110 [==============================] - 1s 7ms/step - loss: 0.0388 - accuracy: 0.7996 - val_loss: 0.0418 - val_accuracy: 0.7981\n",
      "Epoch 29/100\n",
      "110/110 [==============================] - 1s 7ms/step - loss: 0.0385 - accuracy: 0.7998 - val_loss: 0.0421 - val_accuracy: 0.7951\n",
      "Epoch 30/100\n",
      "110/110 [==============================] - 1s 7ms/step - loss: 0.0388 - accuracy: 0.7996 - val_loss: 0.0429 - val_accuracy: 0.7937\n",
      "Epoch 31/100\n",
      "110/110 [==============================] - 1s 7ms/step - loss: 0.0386 - accuracy: 0.7997 - val_loss: 0.0418 - val_accuracy: 0.7962\n",
      "Epoch 32/100\n",
      "110/110 [==============================] - 1s 7ms/step - loss: 0.0386 - accuracy: 0.7997 - val_loss: 0.0418 - val_accuracy: 0.7978\n",
      "Epoch 33/100\n",
      "110/110 [==============================] - 1s 7ms/step - loss: 0.0384 - accuracy: 0.7999 - val_loss: 0.0416 - val_accuracy: 0.7976\n",
      "Epoch 34/100\n",
      "110/110 [==============================] - 1s 7ms/step - loss: 0.0385 - accuracy: 0.7998 - val_loss: 0.0419 - val_accuracy: 0.7971\n",
      "Epoch 35/100\n",
      "110/110 [==============================] - 1s 7ms/step - loss: 0.0386 - accuracy: 0.7997 - val_loss: 0.0412 - val_accuracy: 0.7982\n",
      "Epoch 36/100\n",
      "110/110 [==============================] - 1s 7ms/step - loss: 0.0383 - accuracy: 0.7999 - val_loss: 0.0414 - val_accuracy: 0.7977\n",
      "Epoch 37/100\n",
      "110/110 [==============================] - 1s 7ms/step - loss: 0.0384 - accuracy: 0.7998 - val_loss: 0.0416 - val_accuracy: 0.7973\n",
      "Epoch 38/100\n",
      "110/110 [==============================] - 1s 7ms/step - loss: 0.0383 - accuracy: 0.7998 - val_loss: 0.0422 - val_accuracy: 0.7964\n",
      "Epoch 39/100\n",
      "110/110 [==============================] - 1s 7ms/step - loss: 0.0384 - accuracy: 0.7998 - val_loss: 0.0414 - val_accuracy: 0.7966\n",
      "Epoch 40/100\n",
      "110/110 [==============================] - 1s 7ms/step - loss: 0.0383 - accuracy: 0.7998 - val_loss: 0.0418 - val_accuracy: 0.7974\n",
      "Epoch 41/100\n",
      "110/110 [==============================] - 1s 7ms/step - loss: 0.0381 - accuracy: 0.8000 - val_loss: 0.0412 - val_accuracy: 0.7972\n",
      "Epoch 42/100\n",
      "110/110 [==============================] - 1s 7ms/step - loss: 0.0382 - accuracy: 0.7999 - val_loss: 0.0421 - val_accuracy: 0.7981\n",
      "Epoch 43/100\n",
      "110/110 [==============================] - 1s 7ms/step - loss: 0.0381 - accuracy: 0.8000 - val_loss: 0.0426 - val_accuracy: 0.7964\n",
      "Epoch 44/100\n",
      "110/110 [==============================] - 1s 7ms/step - loss: 0.0382 - accuracy: 0.7999 - val_loss: 0.0412 - val_accuracy: 0.7984\n",
      "Epoch 45/100\n",
      "110/110 [==============================] - 1s 7ms/step - loss: 0.0380 - accuracy: 0.8000 - val_loss: 0.0412 - val_accuracy: 0.7975\n",
      "Epoch 46/100\n",
      "110/110 [==============================] - 1s 7ms/step - loss: 0.0380 - accuracy: 0.7999 - val_loss: 0.0412 - val_accuracy: 0.7969\n",
      "Epoch 47/100\n",
      "110/110 [==============================] - 1s 7ms/step - loss: 0.0377 - accuracy: 0.8002 - val_loss: 0.0415 - val_accuracy: 0.7967\n",
      "Epoch 48/100\n",
      "110/110 [==============================] - 1s 7ms/step - loss: 0.0380 - accuracy: 0.7999 - val_loss: 0.0418 - val_accuracy: 0.7968\n",
      "Epoch 49/100\n",
      "110/110 [==============================] - ETA: 0s - loss: 0.0379 - accuracy: 0.80 - 1s 7ms/step - loss: 0.0379 - accuracy: 0.8001 - val_loss: 0.0412 - val_accuracy: 0.7971\n",
      "Epoch 50/100\n",
      "110/110 [==============================] - 1s 7ms/step - loss: 0.0379 - accuracy: 0.8001 - val_loss: 0.0413 - val_accuracy: 0.7971\n",
      "Epoch 51/100\n",
      "110/110 [==============================] - 1s 7ms/step - loss: 0.0379 - accuracy: 0.8000 - val_loss: 0.0416 - val_accuracy: 0.7974\n",
      "Epoch 52/100\n",
      "110/110 [==============================] - 1s 7ms/step - loss: 0.0377 - accuracy: 0.8003 - val_loss: 0.0413 - val_accuracy: 0.7959\n",
      "Epoch 53/100\n",
      "110/110 [==============================] - 1s 7ms/step - loss: 0.0380 - accuracy: 0.7999 - val_loss: 0.0418 - val_accuracy: 0.7994\n",
      "Epoch 54/100\n",
      "110/110 [==============================] - 1s 7ms/step - loss: 0.0376 - accuracy: 0.8002 - val_loss: 0.0422 - val_accuracy: 0.7950\n",
      "Epoch 55/100\n",
      "110/110 [==============================] - 1s 7ms/step - loss: 0.0376 - accuracy: 0.8002 - val_loss: 0.0409 - val_accuracy: 0.7980\n",
      "Epoch 56/100\n",
      "110/110 [==============================] - 1s 7ms/step - loss: 0.0376 - accuracy: 0.8003 - val_loss: 0.0420 - val_accuracy: 0.7965\n",
      "Epoch 57/100\n",
      "110/110 [==============================] - 1s 7ms/step - loss: 0.0377 - accuracy: 0.8002 - val_loss: 0.0409 - val_accuracy: 0.7971\n",
      "Epoch 58/100\n",
      "110/110 [==============================] - 1s 7ms/step - loss: 0.0377 - accuracy: 0.8002 - val_loss: 0.0418 - val_accuracy: 0.7992\n",
      "Epoch 59/100\n",
      "110/110 [==============================] - 1s 7ms/step - loss: 0.0376 - accuracy: 0.8003 - val_loss: 0.0406 - val_accuracy: 0.7990\n",
      "Epoch 60/100\n",
      "110/110 [==============================] - 1s 7ms/step - loss: 0.0375 - accuracy: 0.8003 - val_loss: 0.0411 - val_accuracy: 0.7969\n",
      "Epoch 61/100\n",
      "110/110 [==============================] - 1s 7ms/step - loss: 0.0376 - accuracy: 0.8002 - val_loss: 0.0412 - val_accuracy: 0.7971\n",
      "Epoch 62/100\n",
      "110/110 [==============================] - 1s 7ms/step - loss: 0.0375 - accuracy: 0.8002 - val_loss: 0.0412 - val_accuracy: 0.7979\n",
      "Epoch 63/100\n",
      "110/110 [==============================] - 1s 7ms/step - loss: 0.0374 - accuracy: 0.8003 - val_loss: 0.0411 - val_accuracy: 0.7985\n",
      "Epoch 64/100\n",
      "110/110 [==============================] - 1s 7ms/step - loss: 0.0373 - accuracy: 0.8003 - val_loss: 0.0404 - val_accuracy: 0.7982\n",
      "Epoch 65/100\n",
      "110/110 [==============================] - 1s 7ms/step - loss: 0.0373 - accuracy: 0.8003 - val_loss: 0.0411 - val_accuracy: 0.7964\n",
      "Epoch 66/100\n",
      "110/110 [==============================] - 1s 7ms/step - loss: 0.0374 - accuracy: 0.8002 - val_loss: 0.0422 - val_accuracy: 0.7972\n",
      "Epoch 67/100\n",
      "110/110 [==============================] - 1s 7ms/step - loss: 0.0374 - accuracy: 0.8003 - val_loss: 0.0411 - val_accuracy: 0.7975\n",
      "Epoch 68/100\n",
      "110/110 [==============================] - 1s 7ms/step - loss: 0.0373 - accuracy: 0.8004 - val_loss: 0.0412 - val_accuracy: 0.7964\n",
      "Epoch 69/100\n",
      "110/110 [==============================] - 1s 7ms/step - loss: 0.0371 - accuracy: 0.8005 - val_loss: 0.0406 - val_accuracy: 0.7980\n",
      "Epoch 70/100\n",
      "110/110 [==============================] - 1s 7ms/step - loss: 0.0372 - accuracy: 0.8005 - val_loss: 0.0408 - val_accuracy: 0.7975\n",
      "Epoch 71/100\n",
      "110/110 [==============================] - 1s 7ms/step - loss: 0.0372 - accuracy: 0.8004 - val_loss: 0.0417 - val_accuracy: 0.7983\n",
      "Epoch 72/100\n",
      "110/110 [==============================] - 1s 7ms/step - loss: 0.0371 - accuracy: 0.8005 - val_loss: 0.0409 - val_accuracy: 0.7968\n",
      "Epoch 73/100\n",
      "110/110 [==============================] - 1s 7ms/step - loss: 0.0370 - accuracy: 0.8005 - val_loss: 0.0407 - val_accuracy: 0.7966\n",
      "Epoch 74/100\n",
      "110/110 [==============================] - 1s 7ms/step - loss: 0.0371 - accuracy: 0.8005 - val_loss: 0.0410 - val_accuracy: 0.7967\n",
      "Epoch 75/100\n",
      "110/110 [==============================] - 1s 7ms/step - loss: 0.0370 - accuracy: 0.8005 - val_loss: 0.0411 - val_accuracy: 0.7974\n",
      "Epoch 76/100\n",
      "110/110 [==============================] - 1s 7ms/step - loss: 0.0368 - accuracy: 0.8007 - val_loss: 0.0412 - val_accuracy: 0.7972\n",
      "Epoch 77/100\n",
      "110/110 [==============================] - 1s 7ms/step - loss: 0.0371 - accuracy: 0.8004 - val_loss: 0.0414 - val_accuracy: 0.7971\n",
      "Epoch 78/100\n",
      "110/110 [==============================] - 1s 7ms/step - loss: 0.0369 - accuracy: 0.8006 - val_loss: 0.0412 - val_accuracy: 0.7973\n",
      "Epoch 79/100\n",
      "110/110 [==============================] - 1s 7ms/step - loss: 0.0369 - accuracy: 0.8006 - val_loss: 0.0410 - val_accuracy: 0.7972\n",
      "Epoch 80/100\n",
      "110/110 [==============================] - 1s 7ms/step - loss: 0.0369 - accuracy: 0.8006 - val_loss: 0.0426 - val_accuracy: 0.7947\n",
      "Epoch 81/100\n",
      "110/110 [==============================] - 1s 7ms/step - loss: 0.0372 - accuracy: 0.8004 - val_loss: 0.0412 - val_accuracy: 0.7965\n",
      "Epoch 82/100\n",
      "110/110 [==============================] - 1s 7ms/step - loss: 0.0368 - accuracy: 0.8007 - val_loss: 0.0417 - val_accuracy: 0.7962\n",
      "Epoch 83/100\n",
      "110/110 [==============================] - 1s 7ms/step - loss: 0.0369 - accuracy: 0.8006 - val_loss: 0.0411 - val_accuracy: 0.7952\n",
      "Epoch 84/100\n",
      "110/110 [==============================] - 1s 7ms/step - loss: 0.0367 - accuracy: 0.8007 - val_loss: 0.0409 - val_accuracy: 0.7968\n",
      "Epoch 85/100\n",
      "110/110 [==============================] - 1s 7ms/step - loss: 0.0367 - accuracy: 0.8007 - val_loss: 0.0406 - val_accuracy: 0.7992\n",
      "Epoch 86/100\n",
      "110/110 [==============================] - 1s 7ms/step - loss: 0.0369 - accuracy: 0.8006 - val_loss: 0.0414 - val_accuracy: 0.7960\n",
      "Epoch 87/100\n",
      "110/110 [==============================] - 1s 7ms/step - loss: 0.0366 - accuracy: 0.8007 - val_loss: 0.0420 - val_accuracy: 0.7941\n",
      "Epoch 88/100\n",
      "110/110 [==============================] - 1s 7ms/step - loss: 0.0366 - accuracy: 0.8007 - val_loss: 0.0411 - val_accuracy: 0.7960\n",
      "Epoch 89/100\n",
      "110/110 [==============================] - 1s 7ms/step - loss: 0.0368 - accuracy: 0.8007 - val_loss: 0.0412 - val_accuracy: 0.7991\n",
      "Epoch 90/100\n",
      "110/110 [==============================] - 1s 7ms/step - loss: 0.0368 - accuracy: 0.8006 - val_loss: 0.0409 - val_accuracy: 0.7973\n",
      "Epoch 91/100\n",
      "110/110 [==============================] - 1s 7ms/step - loss: 0.0365 - accuracy: 0.8008 - val_loss: 0.0409 - val_accuracy: 0.7966\n",
      "Epoch 92/100\n",
      "110/110 [==============================] - 1s 7ms/step - loss: 0.0365 - accuracy: 0.8008 - val_loss: 0.0404 - val_accuracy: 0.7974\n",
      "Epoch 93/100\n",
      "110/110 [==============================] - 1s 7ms/step - loss: 0.0365 - accuracy: 0.8008 - val_loss: 0.0412 - val_accuracy: 0.7944\n",
      "Epoch 94/100\n",
      "110/110 [==============================] - 1s 7ms/step - loss: 0.0369 - accuracy: 0.8005 - val_loss: 0.0413 - val_accuracy: 0.7951\n",
      "Epoch 95/100\n",
      "110/110 [==============================] - 1s 7ms/step - loss: 0.0366 - accuracy: 0.8007 - val_loss: 0.0416 - val_accuracy: 0.7960\n",
      "Epoch 96/100\n",
      "110/110 [==============================] - 1s 7ms/step - loss: 0.0366 - accuracy: 0.8007 - val_loss: 0.0409 - val_accuracy: 0.7974\n",
      "Epoch 97/100\n",
      "110/110 [==============================] - 1s 7ms/step - loss: 0.0365 - accuracy: 0.8008 - val_loss: 0.0411 - val_accuracy: 0.7943\n",
      "Epoch 98/100\n",
      "110/110 [==============================] - 1s 7ms/step - loss: 0.0363 - accuracy: 0.8009 - val_loss: 0.0405 - val_accuracy: 0.7973\n",
      "Epoch 99/100\n",
      "110/110 [==============================] - 1s 7ms/step - loss: 0.0363 - accuracy: 0.8010 - val_loss: 0.0414 - val_accuracy: 0.7969\n",
      "Epoch 100/100\n",
      "110/110 [==============================] - 1s 7ms/step - loss: 0.0363 - accuracy: 0.8009 - val_loss: 0.0410 - val_accuracy: 0.7959\n"
     ]
    },
    {
     "data": {
      "text/plain": [
       "<tensorflow.python.keras.callbacks.History at 0x149ef79b9c8>"
      ]
     },
     "execution_count": 17,
     "metadata": {},
     "output_type": "execute_result"
    }
   ],
   "source": [
    "logdir=\"logs/MINIST-Autoencoder\"\n",
    "\n",
    "callbackMetrics = tf.keras.callbacks.TensorBoard(log_dir=\"logs/MINIST-Autoencoder-metrics\")\n",
    "\n",
    "# tf.profiler.experimental.start(logdir=logdir)\n",
    "\n",
    "autoencoder.fit(X_train.reshape(-1, size, size, 1), \n",
    "                X_train.reshape(-1, size, size, 1),\n",
    "                validation_data=(X_test.reshape(-1, size, size, 1), X_test.reshape(-1, size, size, 1)),\n",
    "                epochs=100,\n",
    "                callbacks=[callbackMetrics],\n",
    "                batch_size=128)\n",
    "\n",
    "# tf.profiler.experimental.stop()\n"
   ]
  },
  {
   "cell_type": "code",
   "execution_count": 18,
   "metadata": {
    "colab": {},
    "colab_type": "code",
    "id": "MQe11kMrUs30"
   },
   "outputs": [
    {
     "data": {
      "image/png": "[encoded data removed]",
      "text/plain": [
       "<Figure size 432x288 with 1 Axes>"
      ]
     },
     "metadata": {
      "needs_background": "light"
     },
     "output_type": "display_data"
    }
   ],
   "source": [
    "e = Xt[1000,:].reshape((28, 28))\n",
    "\n",
    "plt.imshow(e)\n",
    "plt.show()"
   ]
  },
  {
   "cell_type": "code",
   "execution_count": 19,
   "metadata": {
    "colab": {},
    "colab_type": "code",
    "id": "MQe11kMrUs30"
   },
   "outputs": [
    {
     "data": {
      "image/png": "[encoded data removed]",
      "text/plain": [
       "<Figure size 432x288 with 1 Axes>"
      ]
     },
     "metadata": {
      "needs_background": "light"
     },
     "output_type": "display_data"
    }
   ],
   "source": [
    "\n",
    "e = e.reshape(-1,size,size,1)\n",
    "e = autoencoder.predict(e)\n",
    "\n",
    "e = e.reshape(28,28)\n",
    "plt.imshow(e)\n",
    "plt.show()"
   ]
  },
  {
   "cell_type": "code",
   "execution_count": 20,
   "metadata": {
    "colab": {
     "base_uri": "https://localhost:8080/",
     "height": 244
    },
    "colab_type": "code",
    "executionInfo": {
     "elapsed": 4226,
     "status": "error",
     "timestamp": 1558985164970,
     "user": {
      "displayName": "qwerteleven kuihuih",
      "photoUrl": "",
      "userId": "17420874050594162777"
     },
     "user_tz": -60
    },
    "id": "vl-zdogxXuSk",
    "outputId": "17e90b6a-d240-43d7-8a73-eb324aa179f6"
   },
   "outputs": [
    {
     "name": "stdout",
     "output_type": "stream",
     "text": [
      "(20001, 2)\n",
      "(20001, 1)\n"
     ]
    },
    {
     "data": {
      "image/png": "[encoded data removed]",
      "text/plain": [
       "<Figure size 432x288 with 1 Axes>"
      ]
     },
     "metadata": {
      "needs_background": "light"
     },
     "output_type": "display_data"
    }
   ],
   "source": [
    "e = encoder.predict(Xt.reshape(-1, size, size, 1))\n",
    "print (e.shape)\n",
    "print (Y.shape)\n",
    "for i in range(10):\n",
    "    plt.scatter(e[Y.ravel()==i, 0] , e[Y.ravel()==i, 1])\n",
    "\n"
   ]
  },
  {
   "cell_type": "markdown",
   "metadata": {
    "colab_type": "text",
    "id": "nPVq0ql7J5y6"
   },
   "source": [
    "## Convolutional Autoencoder\n",
    "\n",
    "---\n"
   ]
  },
  {
   "cell_type": "code",
   "execution_count": 22,
   "metadata": {
    "colab": {},
    "colab_type": "code",
    "id": "PnIdT4_cmQvN"
   },
   "outputs": [],
   "source": [
    "z = 10 "
   ]
  },
  {
   "cell_type": "code",
   "execution_count": 21,
   "metadata": {
    "colab": {},
    "colab_type": "code",
    "id": "PnIdT4_cmQvN"
   },
   "outputs": [],
   "source": [
    "inpE = Input(shape=(size, size, 1))                                    # BSx28x28x1\n",
    "\n",
    "x = Conv2D(32,kernel_size=(2,2),strides=2, activation='relu')(inpE)    # BSx256\n",
    "x = Conv2D(64,kernel_size=(2,2),strides=2, activation='relu')(x)       # BSx128\n",
    "x = Conv2D(128,kernel_size=(2,2),strides=2, activation='relu')(x)      # BSx64\n",
    "\n",
    "x = Flatten()(x)"
   ]
  },
  {
   "cell_type": "code",
   "execution_count": 23,
   "metadata": {
    "colab": {},
    "colab_type": "code",
    "id": "PnIdT4_cmQvN"
   },
   "outputs": [],
   "source": [
    "\n",
    "c = Dense(z)(x)                         "
   ]
  },
  {
   "cell_type": "code",
   "execution_count": 24,
   "metadata": {
    "colab": {},
    "colab_type": "code",
    "id": "PnIdT4_cmQvN"
   },
   "outputs": [],
   "source": [
    "\n",
    "inpD = Input(shape=c.shape[1:]) \n",
    "\n",
    "x = Dense(1152)(inpD) \n",
    "x = Reshape((3,3,128))(x)\n",
    "x = Conv2DTranspose(64,kernel_size=(3,3), strides=2, activation='relu')(x)      # BSx128\n",
    "x = Conv2DTranspose(32,kernel_size=(2,2), strides=2, activation='relu')(x)      # BSx256\n",
    "x = Conv2DTranspose(1,kernel_size=(2,2),  strides=2, activation='sigmoid')(x)   # BSx64"
   ]
  },
  {
   "cell_type": "code",
   "execution_count": 25,
   "metadata": {
    "colab": {},
    "colab_type": "code",
    "id": "PnIdT4_cmQvN"
   },
   "outputs": [],
   "source": [
    "\n",
    "encoder = Model(inputs=inpE, outputs=c)\n",
    "decoder = Model(inputs=inpD, outputs=x)"
   ]
  },
  {
   "cell_type": "code",
   "execution_count": 26,
   "metadata": {
    "colab": {},
    "colab_type": "code",
    "id": "PnIdT4_cmQvN"
   },
   "outputs": [],
   "source": [
    "inpA = Input(shape=(size, size, 1))\n",
    " \n",
    "autoencoder = Model(inputs=inpA, outputs=decoder(encoder(inpA)))"
   ]
  },
  {
   "cell_type": "code",
   "execution_count": 27,
   "metadata": {
    "colab": {},
    "colab_type": "code",
    "id": "PnIdT4_cmQvN"
   },
   "outputs": [],
   "source": [
    "\n",
    "autoencoder.compile(optimizer=SGD(5), loss='mse',  metrics=['accuracy'])"
   ]
  },
  {
   "cell_type": "code",
   "execution_count": 29,
   "metadata": {
    "colab": {},
    "colab_type": "code",
    "id": "PnIdT4_cmQvN",
    "scrolled": true
   },
   "outputs": [
    {
     "name": "stdout",
     "output_type": "stream",
     "text": [
      "Epoch 1/100\n",
      "110/110 [==============================] - 1s 10ms/step - loss: 0.0164 - accuracy: 0.8112 - val_loss: 0.0171 - val_accuracy: 0.8114\n",
      "Epoch 2/100\n",
      "110/110 [==============================] - 1s 9ms/step - loss: 0.0165 - accuracy: 0.8112 - val_loss: 0.0180 - val_accuracy: 0.8099\n",
      "Epoch 3/100\n",
      "110/110 [==============================] - 1s 9ms/step - loss: 0.0165 - accuracy: 0.8112 - val_loss: 0.0179 - val_accuracy: 0.8104\n",
      "Epoch 4/100\n",
      "110/110 [==============================] - 1s 9ms/step - loss: 0.0164 - accuracy: 0.8112 - val_loss: 0.0170 - val_accuracy: 0.8117\n",
      "Epoch 5/100\n",
      "110/110 [==============================] - 1s 9ms/step - loss: 0.0164 - accuracy: 0.8112 - val_loss: 0.0175 - val_accuracy: 0.8127\n",
      "Epoch 6/100\n",
      "110/110 [==============================] - 1s 9ms/step - loss: 0.0164 - accuracy: 0.8112 - val_loss: 0.0182 - val_accuracy: 0.8131\n",
      "Epoch 7/100\n",
      "110/110 [==============================] - 1s 9ms/step - loss: 0.0164 - accuracy: 0.8112 - val_loss: 0.0174 - val_accuracy: 0.8129\n",
      "Epoch 8/100\n",
      "110/110 [==============================] - 1s 9ms/step - loss: 0.0165 - accuracy: 0.8112 - val_loss: 0.0179 - val_accuracy: 0.8129\n",
      "Epoch 9/100\n",
      "110/110 [==============================] - 1s 9ms/step - loss: 0.0163 - accuracy: 0.8113 - val_loss: 0.0177 - val_accuracy: 0.8103\n",
      "Epoch 10/100\n",
      "110/110 [==============================] - 1s 9ms/step - loss: 0.0164 - accuracy: 0.8112 - val_loss: 0.0172 - val_accuracy: 0.8112\n",
      "Epoch 11/100\n",
      "110/110 [==============================] - 1s 9ms/step - loss: 0.0161 - accuracy: 0.8113 - val_loss: 0.0180 - val_accuracy: 0.8100\n",
      "Epoch 12/100\n",
      "110/110 [==============================] - 1s 9ms/step - loss: 0.0162 - accuracy: 0.8113 - val_loss: 0.0175 - val_accuracy: 0.8129\n",
      "Epoch 13/100\n",
      "110/110 [==============================] - 1s 9ms/step - loss: 0.0162 - accuracy: 0.8113 - val_loss: 0.0176 - val_accuracy: 0.8104\n",
      "Epoch 14/100\n",
      "110/110 [==============================] - 1s 9ms/step - loss: 0.0162 - accuracy: 0.8113 - val_loss: 0.0171 - val_accuracy: 0.8111\n",
      "Epoch 15/100\n",
      "110/110 [==============================] - 1s 8ms/step - loss: 0.0160 - accuracy: 0.8114 - val_loss: 0.0177 - val_accuracy: 0.8103\n",
      "Epoch 16/100\n",
      "110/110 [==============================] - 1s 9ms/step - loss: 0.0163 - accuracy: 0.8112 - val_loss: 0.0169 - val_accuracy: 0.8119\n",
      "Epoch 17/100\n",
      "110/110 [==============================] - 1s 8ms/step - loss: 0.0162 - accuracy: 0.8113 - val_loss: 0.0184 - val_accuracy: 0.8134\n",
      "Epoch 18/100\n",
      "110/110 [==============================] - 1s 9ms/step - loss: 0.0162 - accuracy: 0.8113 - val_loss: 0.0182 - val_accuracy: 0.8096\n",
      "Epoch 19/100\n",
      "110/110 [==============================] - 1s 8ms/step - loss: 0.0161 - accuracy: 0.8113 - val_loss: 0.0182 - val_accuracy: 0.8096\n",
      "Epoch 20/100\n",
      "110/110 [==============================] - 1s 8ms/step - loss: 0.0162 - accuracy: 0.8113 - val_loss: 0.0168 - val_accuracy: 0.8119\n",
      "Epoch 21/100\n",
      "110/110 [==============================] - 1s 8ms/step - loss: 0.0162 - accuracy: 0.8113 - val_loss: 0.0176 - val_accuracy: 0.8102\n",
      "Epoch 22/100\n",
      "110/110 [==============================] - 1s 8ms/step - loss: 0.0159 - accuracy: 0.8114 - val_loss: 0.0169 - val_accuracy: 0.8113\n",
      "Epoch 23/100\n",
      "110/110 [==============================] - 1s 9ms/step - loss: 0.0162 - accuracy: 0.8113 - val_loss: 0.0174 - val_accuracy: 0.8105\n",
      "Epoch 24/100\n",
      "110/110 [==============================] - 1s 8ms/step - loss: 0.0161 - accuracy: 0.8114 - val_loss: 0.0168 - val_accuracy: 0.8113\n",
      "Epoch 25/100\n",
      "110/110 [==============================] - 1s 8ms/step - loss: 0.0161 - accuracy: 0.8113 - val_loss: 0.0173 - val_accuracy: 0.8108\n",
      "Epoch 26/100\n",
      "110/110 [==============================] - 1s 8ms/step - loss: 0.0158 - accuracy: 0.8114 - val_loss: 0.0170 - val_accuracy: 0.8112\n",
      "Epoch 27/100\n",
      "110/110 [==============================] - 1s 8ms/step - loss: 0.0161 - accuracy: 0.8114 - val_loss: 0.0167 - val_accuracy: 0.8118\n",
      "Epoch 28/100\n",
      "110/110 [==============================] - 1s 8ms/step - loss: 0.0161 - accuracy: 0.8114 - val_loss: 0.0179 - val_accuracy: 0.8101\n",
      "Epoch 29/100\n",
      "110/110 [==============================] - 1s 8ms/step - loss: 0.0159 - accuracy: 0.8114 - val_loss: 0.0174 - val_accuracy: 0.8130\n",
      "Epoch 30/100\n",
      "110/110 [==============================] - 1s 8ms/step - loss: 0.0161 - accuracy: 0.8114 - val_loss: 0.0177 - val_accuracy: 0.8131\n",
      "Epoch 31/100\n",
      "110/110 [==============================] - 1s 8ms/step - loss: 0.0158 - accuracy: 0.8115 - val_loss: 0.0167 - val_accuracy: 0.8121\n",
      "Epoch 32/100\n",
      "110/110 [==============================] - 1s 8ms/step - loss: 0.0159 - accuracy: 0.8114 - val_loss: 0.0167 - val_accuracy: 0.8119\n",
      "Epoch 33/100\n",
      "110/110 [==============================] - 1s 8ms/step - loss: 0.0161 - accuracy: 0.8114 - val_loss: 0.0179 - val_accuracy: 0.8133\n",
      "Epoch 34/100\n",
      "110/110 [==============================] - 1s 8ms/step - loss: 0.0158 - accuracy: 0.8114 - val_loss: 0.0169 - val_accuracy: 0.8128\n",
      "Epoch 35/100\n",
      "110/110 [==============================] - 1s 9ms/step - loss: 0.0158 - accuracy: 0.8115 - val_loss: 0.0173 - val_accuracy: 0.8130\n",
      "Epoch 36/100\n",
      "110/110 [==============================] - 1s 8ms/step - loss: 0.0158 - accuracy: 0.8115 - val_loss: 0.0172 - val_accuracy: 0.8106\n",
      "Epoch 37/100\n",
      "110/110 [==============================] - 1s 8ms/step - loss: 0.0160 - accuracy: 0.8114 - val_loss: 0.0170 - val_accuracy: 0.8112\n",
      "Epoch 38/100\n",
      "110/110 [==============================] - 1s 8ms/step - loss: 0.0159 - accuracy: 0.8114 - val_loss: 0.0168 - val_accuracy: 0.8114\n",
      "Epoch 39/100\n",
      "110/110 [==============================] - 1s 8ms/step - loss: 0.0156 - accuracy: 0.8115 - val_loss: 0.0177 - val_accuracy: 0.8133\n",
      "Epoch 40/100\n",
      "110/110 [==============================] - 1s 8ms/step - loss: 0.0159 - accuracy: 0.8114 - val_loss: 0.0175 - val_accuracy: 0.8123\n",
      "Epoch 41/100\n",
      "110/110 [==============================] - 1s 8ms/step - loss: 0.0158 - accuracy: 0.8115 - val_loss: 0.0166 - val_accuracy: 0.8117\n",
      "Epoch 42/100\n",
      "110/110 [==============================] - 1s 9ms/step - loss: 0.0158 - accuracy: 0.8115 - val_loss: 0.0171 - val_accuracy: 0.8108\n",
      "Epoch 43/100\n",
      "110/110 [==============================] - 1s 8ms/step - loss: 0.0159 - accuracy: 0.8114 - val_loss: 0.0181 - val_accuracy: 0.8095\n",
      "Epoch 44/100\n",
      "110/110 [==============================] - 1s 9ms/step - loss: 0.0156 - accuracy: 0.8115 - val_loss: 0.0169 - val_accuracy: 0.8110\n",
      "Epoch 45/100\n",
      "110/110 [==============================] - 1s 9ms/step - loss: 0.0157 - accuracy: 0.8115 - val_loss: 0.0166 - val_accuracy: 0.8116\n",
      "Epoch 46/100\n",
      "110/110 [==============================] - 1s 9ms/step - loss: 0.0157 - accuracy: 0.8115 - val_loss: 0.0165 - val_accuracy: 0.8118\n",
      "Epoch 47/100\n",
      "110/110 [==============================] - 1s 9ms/step - loss: 0.0157 - accuracy: 0.8115 - val_loss: 0.0175 - val_accuracy: 0.8102\n",
      "Epoch 48/100\n",
      "110/110 [==============================] - 1s 9ms/step - loss: 0.0158 - accuracy: 0.8115 - val_loss: 0.0164 - val_accuracy: 0.8121\n",
      "Epoch 49/100\n",
      "110/110 [==============================] - 1s 9ms/step - loss: 0.0156 - accuracy: 0.8115 - val_loss: 0.0172 - val_accuracy: 0.8132\n",
      "Epoch 50/100\n",
      "110/110 [==============================] - 1s 9ms/step - loss: 0.0157 - accuracy: 0.8115 - val_loss: 0.0166 - val_accuracy: 0.8120\n",
      "Epoch 51/100\n",
      "110/110 [==============================] - 1s 9ms/step - loss: 0.0157 - accuracy: 0.8115 - val_loss: 0.0175 - val_accuracy: 0.8102\n",
      "Epoch 52/100\n",
      "110/110 [==============================] - 1s 10ms/step - loss: 0.0156 - accuracy: 0.8116 - val_loss: 0.0167 - val_accuracy: 0.8127\n",
      "Epoch 53/100\n",
      "110/110 [==============================] - 1s 9ms/step - loss: 0.0157 - accuracy: 0.8115 - val_loss: 0.0170 - val_accuracy: 0.8129\n",
      "Epoch 54/100\n",
      "110/110 [==============================] - 1s 9ms/step - loss: 0.0156 - accuracy: 0.8115 - val_loss: 0.0168 - val_accuracy: 0.8128\n",
      "Epoch 55/100\n",
      "110/110 [==============================] - 1s 9ms/step - loss: 0.0155 - accuracy: 0.8116 - val_loss: 0.0172 - val_accuracy: 0.8105\n",
      "Epoch 56/100\n",
      "110/110 [==============================] - 1s 9ms/step - loss: 0.0157 - accuracy: 0.8115 - val_loss: 0.0172 - val_accuracy: 0.8106\n",
      "Epoch 57/100\n",
      "110/110 [==============================] - 1s 9ms/step - loss: 0.0156 - accuracy: 0.8115 - val_loss: 0.0182 - val_accuracy: 0.8094\n"
     ]
    },
    {
     "name": "stdout",
     "output_type": "stream",
     "text": [
      "Epoch 58/100\n",
      "110/110 [==============================] - 1s 9ms/step - loss: 0.0154 - accuracy: 0.8116 - val_loss: 0.0171 - val_accuracy: 0.8106\n",
      "Epoch 59/100\n",
      "110/110 [==============================] - 1s 9ms/step - loss: 0.0157 - accuracy: 0.8115 - val_loss: 0.0164 - val_accuracy: 0.8117\n",
      "Epoch 60/100\n",
      "110/110 [==============================] - 1s 9ms/step - loss: 0.0156 - accuracy: 0.8115 - val_loss: 0.0168 - val_accuracy: 0.8109\n",
      "Epoch 61/100\n",
      "110/110 [==============================] - 1s 9ms/step - loss: 0.0154 - accuracy: 0.8116 - val_loss: 0.0170 - val_accuracy: 0.8106\n",
      "Epoch 62/100\n",
      "110/110 [==============================] - 1s 9ms/step - loss: 0.0156 - accuracy: 0.8115 - val_loss: 0.0165 - val_accuracy: 0.8115\n",
      "Epoch 63/100\n",
      "110/110 [==============================] - 1s 9ms/step - loss: 0.0156 - accuracy: 0.8115 - val_loss: 0.0166 - val_accuracy: 0.8113\n",
      "Epoch 64/100\n",
      "110/110 [==============================] - 1s 9ms/step - loss: 0.0153 - accuracy: 0.8117 - val_loss: 0.0166 - val_accuracy: 0.8116\n",
      "Epoch 65/100\n",
      "110/110 [==============================] - 1s 9ms/step - loss: 0.0155 - accuracy: 0.8116 - val_loss: 0.0164 - val_accuracy: 0.8117\n",
      "Epoch 66/100\n",
      "110/110 [==============================] - 1s 9ms/step - loss: 0.0154 - accuracy: 0.8116 - val_loss: 0.0164 - val_accuracy: 0.8125\n",
      "Epoch 67/100\n",
      "110/110 [==============================] - 1s 9ms/step - loss: 0.0152 - accuracy: 0.8117 - val_loss: 0.0163 - val_accuracy: 0.8119\n",
      "Epoch 68/100\n",
      "110/110 [==============================] - 1s 9ms/step - loss: 0.0155 - accuracy: 0.8116 - val_loss: 0.0168 - val_accuracy: 0.8109\n",
      "Epoch 69/100\n",
      "110/110 [==============================] - 1s 9ms/step - loss: 0.0155 - accuracy: 0.8116 - val_loss: 0.0172 - val_accuracy: 0.8105\n",
      "Epoch 70/100\n",
      "110/110 [==============================] - 1s 10ms/step - loss: 0.0157 - accuracy: 0.8115 - val_loss: 0.0167 - val_accuracy: 0.8113\n",
      "Epoch 71/100\n",
      "110/110 [==============================] - 1s 9ms/step - loss: 0.0153 - accuracy: 0.8116 - val_loss: 0.0168 - val_accuracy: 0.8111\n",
      "Epoch 72/100\n",
      "110/110 [==============================] - 1s 10ms/step - loss: 0.0155 - accuracy: 0.8116 - val_loss: 0.0163 - val_accuracy: 0.8116\n",
      "Epoch 73/100\n",
      "110/110 [==============================] - 1s 9ms/step - loss: 0.0151 - accuracy: 0.8117 - val_loss: 0.0171 - val_accuracy: 0.8107\n",
      "Epoch 74/100\n",
      "110/110 [==============================] - 1s 9ms/step - loss: 0.0155 - accuracy: 0.8116 - val_loss: 0.0161 - val_accuracy: 0.8121\n",
      "Epoch 75/100\n",
      "110/110 [==============================] - 1s 9ms/step - loss: 0.0154 - accuracy: 0.8116 - val_loss: 0.0167 - val_accuracy: 0.8119\n",
      "Epoch 76/100\n",
      "110/110 [==============================] - 1s 10ms/step - loss: 0.0154 - accuracy: 0.8116 - val_loss: 0.0164 - val_accuracy: 0.8126\n",
      "Epoch 77/100\n",
      "110/110 [==============================] - 1s 11ms/step - loss: 0.0152 - accuracy: 0.8117 - val_loss: 0.0166 - val_accuracy: 0.8115\n",
      "Epoch 78/100\n",
      "110/110 [==============================] - 1s 10ms/step - loss: 0.0156 - accuracy: 0.8116 - val_loss: 0.0168 - val_accuracy: 0.8114\n",
      "Epoch 79/100\n",
      "110/110 [==============================] - 1s 10ms/step - loss: 0.0152 - accuracy: 0.8117 - val_loss: 0.0169 - val_accuracy: 0.8131\n",
      "Epoch 80/100\n",
      "110/110 [==============================] - 1s 10ms/step - loss: 0.0154 - accuracy: 0.8116 - val_loss: 0.0172 - val_accuracy: 0.8132\n",
      "Epoch 81/100\n",
      "110/110 [==============================] - 1s 10ms/step - loss: 0.0152 - accuracy: 0.8117 - val_loss: 0.0167 - val_accuracy: 0.8111\n",
      "Epoch 82/100\n",
      "110/110 [==============================] - 1s 10ms/step - loss: 0.0153 - accuracy: 0.8117 - val_loss: 0.0163 - val_accuracy: 0.8115\n",
      "Epoch 83/100\n",
      "110/110 [==============================] - 1s 10ms/step - loss: 0.0153 - accuracy: 0.8117 - val_loss: 0.0167 - val_accuracy: 0.8108\n",
      "Epoch 84/100\n",
      "110/110 [==============================] - 1s 10ms/step - loss: 0.0151 - accuracy: 0.8117 - val_loss: 0.0173 - val_accuracy: 0.8133\n",
      "Epoch 85/100\n",
      "110/110 [==============================] - 1s 10ms/step - loss: 0.0153 - accuracy: 0.8117 - val_loss: 0.0164 - val_accuracy: 0.8127\n",
      "Epoch 86/100\n",
      "110/110 [==============================] - 1s 10ms/step - loss: 0.0152 - accuracy: 0.8117 - val_loss: 0.0164 - val_accuracy: 0.8119\n",
      "Epoch 87/100\n",
      "110/110 [==============================] - 1s 10ms/step - loss: 0.0153 - accuracy: 0.8117 - val_loss: 0.0168 - val_accuracy: 0.8108\n",
      "Epoch 88/100\n",
      "110/110 [==============================] - 1s 11ms/step - loss: 0.0152 - accuracy: 0.8117 - val_loss: 0.0169 - val_accuracy: 0.8132\n",
      "Epoch 89/100\n",
      "110/110 [==============================] - 1s 11ms/step - loss: 0.0153 - accuracy: 0.8117 - val_loss: 0.0169 - val_accuracy: 0.8132\n",
      "Epoch 90/100\n",
      "110/110 [==============================] - 1s 12ms/step - loss: 0.0154 - accuracy: 0.8117 - val_loss: 0.0168 - val_accuracy: 0.8131\n",
      "Epoch 91/100\n",
      "110/110 [==============================] - 1s 11ms/step - loss: 0.0151 - accuracy: 0.8118 - val_loss: 0.0165 - val_accuracy: 0.8111\n",
      "Epoch 92/100\n",
      "110/110 [==============================] - 1s 11ms/step - loss: 0.0151 - accuracy: 0.8117 - val_loss: 0.0165 - val_accuracy: 0.8130\n",
      "Epoch 93/100\n",
      "110/110 [==============================] - 1s 10ms/step - loss: 0.0151 - accuracy: 0.8117 - val_loss: 0.0168 - val_accuracy: 0.8133\n",
      "Epoch 94/100\n",
      "110/110 [==============================] - 1s 11ms/step - loss: 0.0153 - accuracy: 0.8117 - val_loss: 0.0166 - val_accuracy: 0.8111\n",
      "Epoch 95/100\n",
      "110/110 [==============================] - 1s 11ms/step - loss: 0.0153 - accuracy: 0.8117 - val_loss: 0.0167 - val_accuracy: 0.8110\n",
      "Epoch 96/100\n",
      "110/110 [==============================] - 1s 11ms/step - loss: 0.0152 - accuracy: 0.8117 - val_loss: 0.0163 - val_accuracy: 0.8120\n",
      "Epoch 97/100\n",
      "110/110 [==============================] - 1s 11ms/step - loss: 0.0153 - accuracy: 0.8117 - val_loss: 0.0176 - val_accuracy: 0.8134\n",
      "Epoch 98/100\n",
      "110/110 [==============================] - 1s 11ms/step - loss: 0.0150 - accuracy: 0.8118 - val_loss: 0.0173 - val_accuracy: 0.8134\n",
      "Epoch 99/100\n",
      "110/110 [==============================] - 1s 11ms/step - loss: 0.0153 - accuracy: 0.8117 - val_loss: 0.0163 - val_accuracy: 0.8127\n",
      "Epoch 100/100\n",
      "110/110 [==============================] - 1s 11ms/step - loss: 0.0151 - accuracy: 0.8118 - val_loss: 0.0167 - val_accuracy: 0.8129\n"
     ]
    }
   ],
   "source": [
    "logdir=\"logs/MINIS-convolutional-profile\"\n",
    "\n",
    "tf.profiler.experimental.start(logdir=logdir)\n",
    "\n",
    "# metricsCallback = tf.keras.callbacks.TensorBoard(log_dir=\"logs/MINIS-convolutional-metrics\")\n",
    "\n",
    "autoencoder.fit(X_train.reshape(-1, size, size, 1), \n",
    "                X_train.reshape(-1, size, size, 1),\n",
    "                validation_data=(X_test.reshape(-1, size, size, 1), X_test.reshape(-1, size, size, 1)),\n",
    "                epochs=100,\n",
    "              # callbacks=[metricsCallback],\n",
    "                batch_size=128)\n",
    "\n",
    "tf.profiler.experimental.stop()"
   ]
  },
  {
   "cell_type": "code",
   "execution_count": 36,
   "metadata": {
    "colab": {},
    "colab_type": "code",
    "id": "j3IUNUary-GO"
   },
   "outputs": [],
   "source": [
    "def noise_imgs(data, noise):\n",
    "    sol = np.copy(data.reshape((28,28)))\n",
    "    for i in range(28):\n",
    "        for j in range(28):\n",
    "            sol[i][j] = sol[i][j] + (np.random.random_sample() % noise) \n",
    "        \n",
    "    return sol.reshape((784))\n"
   ]
  },
  {
   "cell_type": "code",
   "execution_count": 49,
   "metadata": {
    "colab": {
     "base_uri": "https://localhost:8080/",
     "height": 521
    },
    "colab_type": "code",
    "executionInfo": {
     "elapsed": 1088,
     "status": "ok",
     "timestamp": 1558986327743,
     "user": {
      "displayName": "qwerteleven kuihuih",
      "photoUrl": "",
      "userId": "17420874050594162777"
     },
     "user_tz": -60
    },
    "id": "6z0FqWtfzq7x",
    "outputId": "5b77fa98-c624-460a-ef4e-5d6c1cb67106"
   },
   "outputs": [
    {
     "data": {
      "image/png": "[encoded data removed]",
      "text/plain": [
       "<Figure size 432x288 with 1 Axes>"
      ]
     },
     "metadata": {
      "needs_background": "light"
     },
     "output_type": "display_data"
    },
    {
     "data": {
      "image/png": "[encoded data removed]",
      "text/plain": [
       "<Figure size 432x288 with 1 Axes>"
      ]
     },
     "metadata": {
      "needs_background": "light"
     },
     "output_type": "display_data"
    },
    {
     "data": {
      "image/png": "[encoded data removed]",
      "text/plain": [
       "<Figure size 432x288 with 1 Axes>"
      ]
     },
     "metadata": {
      "needs_background": "light"
     },
     "output_type": "display_data"
    }
   ],
   "source": [
    "noise = 0.5\n",
    "\n",
    "plt.imshow(Xt[38,:].reshape((28,28)))\n",
    "plt.show()\n",
    "\n",
    "plt.imshow(noise_imgs(Xt[38, :], noise).reshape(28, 28))\n",
    "plt.show()\n",
    "\n",
    "e = autoencoder.predict(noise_imgs(Xt[38, :], noise).reshape(-1,size, size, 1))\n",
    "\n",
    "plt.imshow(e.reshape((28,28)))\n",
    "plt.show()"
   ]
  },
  {
   "cell_type": "code",
   "execution_count": 55,
   "metadata": {
    "colab": {
     "base_uri": "https://localhost:8080/",
     "height": 898
    },
    "colab_type": "code",
    "executionInfo": {
     "elapsed": 1175,
     "status": "error",
     "timestamp": 1558986995044,
     "user": {
      "displayName": "qwerteleven kuihuih",
      "photoUrl": "",
      "userId": "17420874050594162777"
     },
     "user_tz": -60
    },
    "id": "PNyyivGQ15S9",
    "outputId": "d8f50dea-10b8-4a7a-8e71-14ef31195c17"
   },
   "outputs": [
    {
     "data": {
      "image/png": "[encoded data removed]",
      "text/plain": [
       "<Figure size 432x288 with 1 Axes>"
      ]
     },
     "metadata": {
      "needs_background": "light"
     },
     "output_type": "display_data"
    },
    {
     "data": {
      "image/png": "[encoded data removed]",
      "text/plain": [
       "<Figure size 432x288 with 1 Axes>"
      ]
     },
     "metadata": {
      "needs_background": "light"
     },
     "output_type": "display_data"
    },
    {
     "data": {
      "image/png": "[encoded data removed]",
      "text/plain": [
       "<Figure size 432x288 with 1 Axes>"
      ]
     },
     "metadata": {
      "needs_background": "light"
     },
     "output_type": "display_data"
    },
    {
     "data": {
      "image/png": "[encoded data removed]",
      "text/plain": [
       "<Figure size 432x288 with 1 Axes>"
      ]
     },
     "metadata": {
      "needs_background": "light"
     },
     "output_type": "display_data"
    },
    {
     "data": {
      "image/png": "[encoded data removed]",
      "text/plain": [
       "<Figure size 432x288 with 1 Axes>"
      ]
     },
     "metadata": {
      "needs_background": "light"
     },
     "output_type": "display_data"
    },
    {
     "data": {
      "image/png": "[encoded data removed]",
      "text/plain": [
       "<Figure size 432x288 with 1 Axes>"
      ]
     },
     "metadata": {
      "needs_background": "light"
     },
     "output_type": "display_data"
    },
    {
     "data": {
      "image/png": "[encoded data removed]",
      "text/plain": [
       "<Figure size 432x288 with 1 Axes>"
      ]
     },
     "metadata": {
      "needs_background": "light"
     },
     "output_type": "display_data"
    },
    {
     "data": {
      "image/png": "[encoded data removed]",
      "text/plain": [
       "<Figure size 432x288 with 1 Axes>"
      ]
     },
     "metadata": {
      "needs_background": "light"
     },
     "output_type": "display_data"
    },
    {
     "data": {
      "image/png": "[encoded data removed]",
      "text/plain": [
       "<Figure size 432x288 with 1 Axes>"
      ]
     },
     "metadata": {
      "needs_background": "light"
     },
     "output_type": "display_data"
    },
    {
     "data": {
      "image/png": "[encoded data removed]",
      "text/plain": [
       "<Figure size 432x288 with 1 Axes>"
      ]
     },
     "metadata": {
      "needs_background": "light"
     },
     "output_type": "display_data"
    },
    {
     "data": {
      "image/png": "[encoded data removed]",
      "text/plain": [
       "<Figure size 432x288 with 1 Axes>"
      ]
     },
     "metadata": {
      "needs_background": "light"
     },
     "output_type": "display_data"
    },
    {
     "data": {
      "image/png": "[encoded data removed]",
      "text/plain": [
       "<Figure size 432x288 with 1 Axes>"
      ]
     },
     "metadata": {
      "needs_background": "light"
     },
     "output_type": "display_data"
    }
   ],
   "source": [
    "plt.imshow(Xt[31,:].reshape((28,28)))\n",
    "plt.show()\n",
    "\n",
    "a = encoder.predict(Xt[30,:].reshape(-1, size, size, 1))\n",
    "b = encoder.predict(Xt[31,:].reshape(-1, size, size, 1))\n",
    "\n",
    "\n",
    "for i in range(10):\n",
    "    c = ((a*i) / 10)  + ((b*1) - (i/10))\n",
    "    plt.imshow(decoder.predict(c).reshape((28, 28)))\n",
    "    plt.show()\n",
    "\n",
    "\n",
    "plt.imshow(Xt[30,:].reshape((28,28)))\n",
    "plt.show()"
   ]
  }
 ],
 "metadata": {
  "accelerator": "GPU",
  "colab": {
   "collapsed_sections": [],
   "name": "Copia de Exerc.12 - Autoencoders ",
   "provenance": [
    {
     "file_id": "1Ng79_RvmgW3NCqV9vQG2YJleTC1--Huw",
     "timestamp": 1558976504229
    },
    {
     "file_id": "1HTUmaNlBtjAFTiomsrdB09oM8DT6DLqY",
     "timestamp": 1558976005938
    },
    {
     "file_id": "1Q6WIXhkNJmgzJskDdYoKv2mxtFP7FX3s",
     "timestamp": 1543862732578
    }
   ],
   "version": "0.3.2"
  },
  "kernelspec": {
   "display_name": "Python 3",
   "language": "python",
   "name": "python3"
  },
  "language_info": {
   "codemirror_mode": {
    "name": "ipython",
    "version": 3
   },
   "file_extension": ".py",
   "mimetype": "text/x-python",
   "name": "python",
   "nbconvert_exporter": "python",
   "pygments_lexer": "ipython3",
   "version": "3.7.6"
  }
 },
 "nbformat": 4,
 "nbformat_minor": 1
}
